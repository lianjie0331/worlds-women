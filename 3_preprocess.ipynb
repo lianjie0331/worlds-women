{
 "cells": [
  {
   "cell_type": "markdown",
   "metadata": {},
   "source": [
    "## About\n",
    "\n",
    "This script:\n",
    "1. uses stanford named entity recognizer to find the proper names in my women article corpus and exports a new csv column with the article text without proper nouns.\n",
    "2. pre-processes text \n",
    "3. Calculates sentiments\n",
    "4. creates a DTM"
   ]
  },
  {
   "cell_type": "markdown",
   "metadata": {},
   "source": [
    "## NER"
   ]
  },
  {
   "cell_type": "code",
   "execution_count": 8,
   "metadata": {
    "collapsed": false
   },
   "outputs": [],
   "source": [
    "import ner\n",
    "import os\n",
    "import re\n",
    "import csv\n",
    "from urllib import urlopen"
   ]
  },
  {
   "cell_type": "code",
   "execution_count": 2,
   "metadata": {
    "collapsed": false
   },
   "outputs": [
    {
     "data": {
      "text/plain": [
       "131072"
      ]
     },
     "execution_count": 2,
     "metadata": {},
     "output_type": "execute_result"
    }
   ],
   "source": [
    "import sys\n",
    "\n",
    "csv.field_size_limit(sys.maxsize)\n",
    " "
   ]
  },
  {
   "cell_type": "code",
   "execution_count": 3,
   "metadata": {
    "collapsed": false
   },
   "outputs": [],
   "source": [
    "tagger = ner.SocketNER(host='localhost', port=8080)"
   ]
  },
  {
   "cell_type": "code",
   "execution_count": 4,
   "metadata": {
    "collapsed": false
   },
   "outputs": [
    {
     "data": {
      "text/plain": [
       "{u'LOCATION': [u'Rumania', u'Rumania', u'Rumania'],\n",
       " u'ORGANIZATION': [u'Murray Stopes International'],\n",
       " u'PERSON': [u'Nicolae Ceausescu', u'Ceausescu', u'Timothy Rutter']}"
      ]
     },
     "execution_count": 4,
     "metadata": {},
     "output_type": "execute_result"
    }
   ],
   "source": [
    "# test\n",
    "entities = tagger.get_entities(\"The dictatorship of President Nicolae Ceausescu caused extreme hardships for all but a few hundred thousand of Rumania's 23 million citizens. But in the case of mothers and babies, his rule apparently had the most tragic consequences. Mr. Ceausescu, who was ousted in a popular uprising a month ago, decreed in 1967, two years after he came to power, that Rumania's population, then about 22 million, should increase to 30 million. The reason he gave was simply that he wanted a bigger Rumania - an assertion widely interpreted now as an early indication of his megalomania. And to achieve his goal he banned abortions, made contraception illegal and ordered that Rumanian women of child-bearing age have five children each. No Precise Accounting Harsh fines were ordered for women caught having abortions, and doctors or medical technicians who assisted in abortions were sentenced to up to four years in prison and prohibited from practicing for 10 years. In the latter years of the regime, women working in factories were subjected to pregnancy checks as often as once a week. There is as yet no precise accounting of how many Rumanians were adversely affected by such strictures. Officials of the new provisional Government and outside experts have only begun to gather data about what happened over the years. But the fragmentary figures and educated guesses that they have been able to provide depict a society of families torn by death and fear as a result of the decrees paradoxically meant to make them propagate. ''The policy was a total failure,'' said Dr. Timothy Rutter, a consultant for Murray Stopes International, a British charity that assi\")\n",
    "entities"
   ]
  },
  {
   "cell_type": "code",
   "execution_count": 5,
   "metadata": {
    "collapsed": false
   },
   "outputs": [
    {
     "data": {
      "text/plain": [
       "{u'LOCATION': {u'Rumania'},\n",
       " u'ORGANIZATION': {u'Murray Stopes International'},\n",
       " u'PERSON': {u'Ceausescu', u'Nicolae Ceausescu', u'Timothy Rutter'}}"
      ]
     },
     "execution_count": 5,
     "metadata": {},
     "output_type": "execute_result"
    }
   ],
   "source": [
    "for key in entities:\n",
    "    entities[key] = set(entities[key])\n",
    "entities"
   ]
  },
  {
   "cell_type": "code",
   "execution_count": 12,
   "metadata": {
    "collapsed": false
   },
   "outputs": [
    {
     "data": {
      "text/plain": [
       "{'BYLINE': 'By DAVID BINDER, Special to The New York Times',\n",
       " 'COUNTRY': 'ROMANIA\\xc2\\xa0(96%);',\n",
       " 'COUNTRY_CODE': 'ROU',\n",
       " 'COUNTRY_FINAL': 'Romania',\n",
       " 'COUNTRY_MAJOR': 'ROMANIA',\n",
       " 'COUNTRY_NR': 'ROMANIA\\xc2\\xa0(96%)',\n",
       " 'COUNTRY_TOP_PERCENT': 'ROMANIA\\xc2\\xa0(96%)',\n",
       " 'DATE': 'January 24, 1990',\n",
       " 'LENGTH': '936 words',\n",
       " 'PUBLICATION': 'NYT',\n",
       " 'REGION': 'EECA',\n",
       " 'SUBJECT': \"ABORTION; BIRTH CONTROL AND FAMILY PLANNING; POPULATION; CHILDREN AND YOUTH; WOMEN; POLITICS AND GOVERNMENT \\xc2\\xa0PREGNANCY & CHILDBIRTH\\xc2\\xa0(90%);\\xc2\\xa0INFANTS & TODDLERS\\xc2\\xa0(90%);\\xc2\\xa0HEADS OF STATE & GOVERNMENT\\xc2\\xa0(90%);\\xc2\\xa0ABORTION\\xc2\\xa0(90%);\\xc2\\xa0WOMEN\\xc2\\xa0(90%); CHILDREN\\xc2\\xa0(89%);\\xc2\\xa0ORPHANS\\xc2\\xa0(89%);\\xc2\\xa0JAIL SENTENCING\\xc2\\xa0(88%);\\xc2\\xa0PARENTING\\xc2\\xa0(78%);\\xc2\\xa0WOMEN'S HEALTH\\xc2\\xa0(78%);\\xc2\\xa0POPULATION SIZE\\xc2\\xa0(78%);\\xc2\\xa0CONTRACEPTION\\xc2\\xa0(74%);\\xc2\\xa0LAW ENFORCEMENT\\xc2\\xa0(74%);\",\n",
       " 'TEXT': \"The dictatorship of President Nicolae Ceausescu caused extreme hardships for all but a few hundred thousand of Rumania's 23 million citizens. But in the case of mothers and babies, his rule apparently had the most tragic consequences. Mr. Ceausescu, who was ousted in a popular uprising a month ago, decreed in 1967, two years after he came to power, that Rumania's population, then about 22 million, should increase to 30 million. The reason he gave was simply that he wanted a bigger Rumania - an assertion widely interpreted now as an early indication of his megalomania. And to achieve his goal he banned abortions, made contraception illegal and ordered that Rumanian women of child-bearing age have five children each. No Precise Accounting Harsh fines were ordered for women caught having abortions, and doctors or medical technicians who assisted in abortions were sentenced to up to four years in prison and prohibited from practicing for 10 years. In the latter years of the regime, women working in factories were subjected to pregnancy checks as often as once a week. There is as yet no precise accounting of how many Rumanians were adversely affected by such strictures. Officials of the new provisional Government and outside experts have only begun to gather data about what happened over the years. But the fragmentary figures and educated guesses that they have been able to provide depict a society of families torn by death and fear as a result of the decrees paradoxically meant to make them propagate. ''The policy was a total failure,'' said Dr. Timothy Rutter, a consultant for Murray Stopes International, a British charity that assists planned parenthood projects. Dr. Rutter spent the last week in Bucharest. In talks with officials at the new Government's Ministry of Health, Dr. Rutter was told that while the Rumanian population rate grew by 2.5 percent in 1966, in 1989 there was actually a negative growth rate. Rumanian officials said there were 300,000 births last year and 1.2 million abortions. Jail for Performing Abortions In Iasi, a city of 400,000 people in northern Rumania, physicians told a visitor that three Iasi University medical professors were jailed for one year each under the dictatorship for performing abortions. ''We have many maternal deaths and very many abandoned children'' as a result of the abortion policy, a physician said, adding that in Iasi, medical instruments that might be used in abortions were kept locked up and could be taken out only under the supervision of a state security police officer. Every Rumanian seems to know cases of mothers dying during botched abortions, children orphaned as a result of such deaths and babies harmed by unsuccessful attempts at abortion. Officials said there are 718 orphans up to the age of 3 in Bucharest, many in pitiable condition. The officials said that the children were orphaned as a result of the Ceausescu policies and that there would be more had the regime not sold Rumanian orphans to France for hard currency. Presumably the orphans were from families broken after the mothers had died during abortions or during unhealthy pregnancies. Death of a Wife In an interview, Ion Tudor, a 46-year-old museum worker, told of his family with tears in his eyes. In February 1975, he came home from a work assignment in another city to find his 26-year-old wife, Florica, in a state of collapse. ''She had gotten an abortion from a medical technician,'' he said, adding that he had no knowledge of her plans. ''I called an ambulance. It took 12 hours for the ambulance to arrive. We went to the Giulesti Maternity Hospital. They called the police, who said she could not receive treatment until she confessed who had performed the abortion. She received no care for two days. Then she had a kidney collapse.  ''The doctors sneaked her over to the Emergency Hospital, where the doctors treated her. The doctor there told me if she was strong she had a chance to live. She died 18 days later.'' She left Mr. Tudor with three sons, ages 2, 4 and 5. Mihai Orovanu, a Bucharest photographer, told of visiting an archeological site at Pacuiul Lui Soare, near the Danube, last November and finding a Bucharest physician living in a cave. He had been jailed and then barred from practice for 10 years because he had performed abortions. ''He was living off vegetables he stole from the fields and fish he caught in the river,'' Mr. Orovanu said. 'There Was No Milk' The babies who were born faced severe hardships. Christian Modolciu, a 39-year-old foreign trade specialist who has two children, said he and his wife decided not to have any more. ''We wanted a third child, but there was no milk to be had,'' he said. During the Ceausescu regime, interuterine devices and condoms were traded on the black market, with American-made I.U.D.'s selling for more than $100 apiece. But such devices were scarce. In Bucharest there are 20,000 women in hospitals being treated for abortion complications, Dr. Rutter said, quoting the Rumanian health officials. He said an additional 10,000 Bucharest women are waiting for places in hospitals for treatment of blocked fallopian tubes caused by mishandled abortions. Abortions are being performed at a rate of 60 a day at one Bucharest hospital alone. Condoms are now becoming available in the capital's pharmacies. The first legal decree of the Council of National Salvation, which took power after the fall of Mr. Ceausescus, dissolved the state security police. The second decree was to end the Ceausescu policy banning abortions.\",\n",
       " 'TEXT-NO-NOUN': \"The dictatorship of President  caused extreme hardships for all but a few hundred thousand of 's 23 million citizens. But in the case of mothers and babies, his rule apparently had the most tragic consequences. Mr. , who was ousted in a popular uprising a month ago, decreed in 1967, two years after he came to power, that 's population, then about 22 million, should increase to 30 million. The reason he gave was simply that he wanted a bigger  - an assertion widely interpreted now as an early indication of his megalomania. And to achieve his goal he banned abortions, made contraception illegal and ordered that n women of child-bearing age have five children each. No Precise Accounting Harsh fines were ordered for women caught having abortions, and doctors or medical technicians who assisted in abortions were sentenced to up to four years in prison and prohibited from practicing for 10 years. In the latter years of the regime, women working in factories were subjected to pregnancy checks as often as once a week. There is as yet no precise accounting of how many ns were adversely affected by such strictures. Officials of the new provisional Government and outside experts have only begun to gather data about what happened over the years. But the fragmentary figures and educated guesses that they have been able to provide depict a society of families torn by death and fear as a result of the decrees paradoxically meant to make them propagate. ''The policy was a total failure,'' said Dr. , a consultant for , a British charity that assists planned parenthood projects. Dr.  spent the last week in . In talks with officials at the new Government's , Dr.  was told that while the n population rate grew by 2.5 percent in 1966, in 1989 there was actually a negative growth rate. n officials said there were 300,000 births last year and 1.2 million abortions. Jail for Performing Abortions In , a city of 400,000 people in northern , physicians told a visitor that three  medical professors were jailed for one year each under the dictatorship for performing abortions. ''We have many maternal deaths and very many abandoned children'' as a result of the abortion policy, a physician said, adding that in , medical instruments that might be used in abortions were kept locked up and could be taken out only under the supervision of a state security police officer. Every n seems to know cases of mothers dying during botched abortions, children orphaned as a result of such deaths and babies harmed by unsuccessful attempts at abortion. Officials said there are 718 orphans up to the age of 3 in , many in pitiable condition. The officials said that the children were orphaned as a result of the  policies and that there would be more had the regime not sold n orphans to  for hard currency. Presumably the orphans were from families broken after the mothers had died during abortions or during unhealthy pregnancies. Death of a Wife In an interview, Ion , a 46-year-old museum worker, told of his family with tears in his eyes. In February 1975, he came home from a work assignment in another city to find his 26-year-old wife, , in a state of collapse. ''She had gotten an abortion from a medical technician,'' he said, adding that he had no knowledge of her plans. ''I called an ambulance. It took 12 hours for the ambulance to arrive. We went to the . They called the police, who said she could not receive treatment until she confessed who had performed the abortion. She received no care for two days. Then she had a kidney collapse.  ''The doctors sneaked her over to the , where the doctors treated her. The doctor there told me if she was strong she had a chance to live. She died 18 days later.'' She left Mr.  with three sons, ages 2, 4 and 5. , a  photographer, told of visiting an archeological site at , near the , last November and finding a  physician living in a cave. He had been jailed and then barred from practice for 10 years because he had performed abortions. ''He was living off vegetables he stole from the fields and fish he caught in the river,'' Mr.  said. 'There Was No Milk' The babies who were born faced severe hardships. , a 39-year-old foreign trade specialist who has two children, said he and his wife decided not to have any more. ''We wanted a third child, but there was no milk to be had,'' he said. During the  regime, interuterine devices and condoms were traded on the black market, with American-made I.U.D.'s selling for more than $100 apiece. But such devices were scarce. In  there are 20,000 women in hospitals being treated for abortion complications, Dr.  said, quoting the n health officials. He said an additional 10,000  women are waiting for places in hospitals for treatment of blocked fallopian tubes caused by mishandled abortions. Abortions are being performed at a rate of 60 a day at one  hospital alone. Condoms are now becoming available in the capital's pharmacies. The first legal decree of the , which took power after the fall of Mr. , dissolved the state security police. The second decree was to end the  policy banning abortions.\",\n",
       " 'TITLE': 'Upheaval in the East; Where Fear and Death Went Forth and Multiplied',\n",
       " 'TYPE': '',\n",
       " 'YEAR': '1990',\n",
       " 'entities': \"{u'ORGANIZATION': set([u'Emergency Hospital', u'Ministry of Health', u'Giulesti Maternity Hospital', u'Murray Stopes International', u'Council of National Salvation', u'Iasi University']), u'LOCATION': set([u'Bucharest', u'Pacuiul Lui Soare', u'France', u'Rumania', u'Iasi', u'Danube']), u'PERSON': set([u'Tudor', u'Timothy Rutter', u'Ceausescus', u'Mihai Orovanu', u'Nicolae Ceausescu', u'Rutter', u'Orovanu', u'Ceausescu', u'Christian Modolciu', u'Florica', u'Ion Tudor'])}\"}"
      ]
     },
     "execution_count": 12,
     "metadata": {},
     "output_type": "execute_result"
    }
   ],
   "source": [
    "#read csv and read into a list of dictionaries\n",
    "women = []\n",
    "with open('Data/Corpora/women-foreign.csv') as csvfile:\n",
    "    reader = csv.DictReader(csvfile)\n",
    "    for row in reader:\n",
    "        women.append(row)\n",
    "women[1]"
   ]
  },
  {
   "cell_type": "code",
   "execution_count": 9,
   "metadata": {
    "collapsed": false
   },
   "outputs": [],
   "source": [
    "# remove named entities\n",
    "for article in women:\n",
    "    entities = tagger.get_entities(article['TEXT'])\n",
    "    for key in entities:\n",
    "        entities[key] = set(entities[key])\n",
    "    article['entities'] = entities\n",
    "    entities = [item for sublist in entities.values() for item in sublist]\n",
    "    text = article['TEXT']\n",
    "    for noun in entities:\n",
    "        text = text.replace(noun.encode('utf-8'),'')\n",
    "    article['TEXT-NO-NOUN'] = text"
   ]
  },
  {
   "cell_type": "code",
   "execution_count": 10,
   "metadata": {
    "collapsed": false
   },
   "outputs": [
    {
     "name": "stdout",
     "output_type": "stream",
     "text": [
      "EECA\n",
      "Asia\n",
      "EECA\n",
      "MENA\n",
      "EECA\n",
      "Africa\n",
      "Africa\n",
      "MENA\n",
      "Asia\n",
      "West\n",
      "MENA\n",
      "West\n",
      "Asia\n",
      "West\n",
      "LA\n",
      "Asia\n",
      "Asia\n",
      "Asia\n",
      "Asia\n",
      "West\n",
      "MENA\n",
      "Asia\n",
      "Asia\n",
      "West\n",
      "LA\n",
      "Asia\n",
      "MENA\n",
      "West\n",
      "West\n",
      "EECA\n",
      "Africa\n",
      "Africa\n",
      "Asia\n",
      "Africa\n",
      "LA\n",
      "EECA\n",
      "MENA\n",
      "Asia\n",
      "EECA\n",
      "West\n",
      "Asia\n",
      "Asia\n",
      "West\n",
      "Asia\n",
      "West\n",
      "Asia\n",
      "Asia\n",
      "Asia\n",
      "West\n",
      "West\n",
      "Asia\n",
      "Asia\n",
      "West\n",
      "Asia\n",
      "MENA\n",
      "EECA\n",
      "West\n",
      "West\n",
      "LA\n",
      "Africa\n",
      "West\n",
      "West\n",
      "MENA\n",
      "Asia\n",
      "Asia\n",
      "Asia\n",
      "EECA\n",
      "Africa\n",
      "West\n",
      "MENA\n",
      "West\n",
      "EECA\n",
      "EECA\n",
      "West\n",
      "West\n",
      "West\n",
      "West\n",
      "Asia\n",
      "Asia\n",
      "EECA\n",
      "LA\n",
      "Asia\n",
      "West\n",
      "West\n",
      "West\n",
      "Africa\n",
      "Africa\n",
      "West\n",
      "MENA\n",
      "West\n",
      "MENA\n",
      "West\n",
      "Asia\n",
      "West\n",
      "Asia\n",
      "West\n",
      "Asia\n",
      "West\n",
      "West\n"
     ]
    }
   ],
   "source": [
    "for i in women[1:100]:\n",
    "    print i['REGION']"
   ]
  },
  {
   "cell_type": "markdown",
   "metadata": {},
   "source": [
    "## Entity analysis"
   ]
  },
  {
   "cell_type": "code",
   "execution_count": 11,
   "metadata": {
    "collapsed": false
   },
   "outputs": [
    {
     "name": "stdout",
     "output_type": "stream",
     "text": [
      "[u'ORGANIZATION', u'LOCATION', u'PERSON']\n",
      "[u'ORGANIZATION', u'LOCATION', u'PERSON']\n",
      "[u'ORGANIZATION', u'LOCATION', u'PERSON']\n",
      "[u'PERSON', u'LOCATION']\n",
      "[u'ORGANIZATION', u'LOCATION', u'PERSON']\n",
      "[u'ORGANIZATION', u'LOCATION', u'PERSON']\n",
      "[u'ORGANIZATION', u'LOCATION', u'PERSON']\n",
      "[u'ORGANIZATION', u'LOCATION', u'PERSON']\n",
      "[u'ORGANIZATION', u'LOCATION', u'PERSON']\n",
      "[u'ORGANIZATION', u'LOCATION']\n"
     ]
    }
   ],
   "source": [
    "for i in women[:10]:\n",
    "    print [s for s in i['entities']]"
   ]
  },
  {
   "cell_type": "code",
   "execution_count": 12,
   "metadata": {
    "collapsed": false
   },
   "outputs": [],
   "source": [
    "asia = {'locations':[],'organization':[],'person':[]}\n",
    "mena = {'locations':[],'organization':[],'person':[]}\n",
    "africa = {'locations':[],'organization':[],'person':[]}\n",
    "la = {'locations':[],'organization':[],'person':[]}\n",
    "eeca = {'locations':[],'organization':[],'person':[]}\n",
    "west = {'locations':[],'organization':[],'person':[]}"
   ]
  },
  {
   "cell_type": "code",
   "execution_count": 13,
   "metadata": {
    "collapsed": false
   },
   "outputs": [],
   "source": [
    "for i in women:\n",
    "    if i['REGION'] == 'Asia':\n",
    "        if u'LOCATION' in i['entities'].keys():\n",
    "            x = [s for s in i['entities'][u'LOCATION']]\n",
    "            asia['locations'].append(x)\n",
    "        if u'ORGANIZATION' in i['entities'].keys():\n",
    "            x = [s for s in i['entities'][u'ORGANIZATION']]\n",
    "            asia['organization'].append(x)\n",
    "        if u'PERSON' in i['entities'].keys():\n",
    "            x = [s for s in i['entities'][u'PERSON']]\n",
    "            asia['person'].append(x)\n",
    "    if i['REGION'] == 'EECA':\n",
    "        if u'LOCATION' in i['entities'].keys():\n",
    "            x = [s for s in i['entities'][u'LOCATION']]\n",
    "            eeca['locations'].append(x)\n",
    "        if u'ORGANIZATION' in i['entities'].keys():\n",
    "            x = [s for s in i['entities'][u'ORGANIZATION']]\n",
    "            eeca['organization'].append(x)\n",
    "        if u'PERSON' in i['entities'].keys():\n",
    "            x = [s for s in i['entities'][u'PERSON']]\n",
    "            eeca['person'].append(x)\n",
    "    if i['REGION'] == 'MENA':\n",
    "        if u'LOCATION' in i['entities'].keys():\n",
    "            x = [s for s in i['entities'][u'LOCATION']]\n",
    "            mena['locations'].append(x)\n",
    "        if u'ORGANIZATION' in i['entities'].keys():\n",
    "            x = [s for s in i['entities'][u'ORGANIZATION']]\n",
    "            mena['organization'].append(x)\n",
    "        if u'PERSON' in i['entities'].keys():\n",
    "            x = [s for s in i['entities'][u'PERSON']]\n",
    "            mena['person'].append(x)\n",
    "    if i['REGION'] == 'West':\n",
    "        if u'LOCATION' in i['entities'].keys():\n",
    "            x = [s for s in i['entities'][u'LOCATION']]\n",
    "            west['locations'].append(x)\n",
    "        if u'ORGANIZATION' in i['entities'].keys():\n",
    "            x = [s for s in i['entities'][u'ORGANIZATION']]\n",
    "            west['organization'].append(x)\n",
    "        if u'PERSON' in i['entities'].keys():\n",
    "            x = [s for s in i['entities'][u'PERSON']]\n",
    "            west['person'].append(x)\n",
    "    if i['REGION'] == 'Africa':\n",
    "        if u'LOCATION' in i['entities'].keys():\n",
    "            x = [s for s in i['entities'][u'LOCATION']]\n",
    "            africa['locations'].append(x)\n",
    "        if u'ORGANIZATION' in i['entities'].keys():\n",
    "            x = [s for s in i['entities'][u'ORGANIZATION']]\n",
    "            africa['organization'].append(x)\n",
    "        if u'PERSON' in i['entities'].keys():\n",
    "            x = [s for s in i['entities'][u'PERSON']]\n",
    "            africa['person'].append(x)\n",
    "    if i['REGION'] == 'LA':\n",
    "        if u'LOCATION' in i['entities'].keys():\n",
    "            x = [s for s in i['entities'][u'LOCATION']]\n",
    "            la['locations'].append(x)\n",
    "        if u'ORGANIZATION' in i['entities'].keys():\n",
    "            x = [s for s in i['entities'][u'ORGANIZATION']]\n",
    "            la['organization'].append(x)\n",
    "        if u'PERSON' in i['entities'].keys():\n",
    "            x = [s for s in i['entities'][u'PERSON']]\n",
    "            la['person'].append(x)"
   ]
  },
  {
   "cell_type": "code",
   "execution_count": 14,
   "metadata": {
    "collapsed": false
   },
   "outputs": [],
   "source": [
    "for i in [asia,africa,mena,eeca,la,west]:\n",
    "    for key in i.keys():\n",
    "        i[key] = [s for sublist in i[key] for s in sublist]"
   ]
  },
  {
   "cell_type": "code",
   "execution_count": 15,
   "metadata": {
    "collapsed": false
   },
   "outputs": [],
   "source": [
    "from collections import Counter"
   ]
  },
  {
   "cell_type": "code",
   "execution_count": 16,
   "metadata": {
    "collapsed": false
   },
   "outputs": [],
   "source": [
    "for i in [asia,africa,mena,eeca,la,west]:\n",
    "    for key in i.keys():\n",
    "        i[key] = Counter(i[key])"
   ]
  },
  {
   "cell_type": "code",
   "execution_count": 17,
   "metadata": {
    "collapsed": false
   },
   "outputs": [
    {
     "data": {
      "text/plain": [
       "Counter({u'Nelson Mandela': 27, u'Maureen Reagan': 19, u'Thabo Mbeki': 18, u'Reagan': 18, u'Mandela': 16, u'Bush': 14, u'Mbeki': 14, u'Daniel arap Moi': 10, u'Banda': 9, u'Alan L. Keyes': 8, u'Jacob Zuma': 8, u'Burkina Faso': 8, u'Ellen Johnson Sirleaf': 8, u'Zuma': 8, u'Kasinga': 7, u'Robert Mugabe': 7, u'Clinton': 7, u'Maathai': 7, u'bush': 7, u'Fauziya Kasinga': 7, u'Wangari Maathai': 7, u'Betty Friedan': 7, u'Obama': 7, u'Moi': 7, u'Arab': 7, u'Winnie Mandela': 6, u'Nicholas D. Kristof': 6, u'Karen Musalo': 6, u'Mohamed': 5, u'Keyes': 5, u'Jeane Kirkpatrick': 5, u'Johnson Sirleaf': 5, u'Muslim': 5, u'Musalo': 5, u'Charles Taylor': 5, u'Hutu': 5, u'Mugabe': 4, u'Yoweri Museveni': 4, u'Michelle Obama': 4, u'Denis Mukwege': 4, u'F. W. de Klerk': 4, u'Jimmy Carter': 4, u'Leymah Gbowee': 4, u'Adelaide Abankwah': 4, u'Boko Haram': 4, u'Nancy Clark Reynolds': 4, u'George': 4, u'Luo': 4, u'Linda Chavez': 4, u'Javier Perez de Cuellar': 4, u'Lindy Boggs': 4, u'Samuel Doe': 4, u'Kennedy': 4, u'Gbowee': 4, u'Ibrahim': 4, u'Hillary Rodham Clinton': 4, u'Al Gore': 4, u'Wangari Muta Maathai': 4, u'Joyce Banda': 4, u'Tutsi': 4, u'Mobutu Sese Seko': 4, u'Museveni': 4, u'Mau Mau': 4, u'Olusegun Obasanjo': 3, u'de Klerk': 3, u'Leticia Shahani': 3, u'Bella S. Abzug': 3, u'Shahani': 3, u'Weiss': 3, u'Mukwege': 3, u'Leticia R. Shahani': 3, u'Abdou Diouf': 3, u'Buthelezi': 3, u'Jackson': 3, u'Otieno': 3, u'Nancy Landon Kassebaum': 3, u'Weah': 3, u'George Weah': 3, u'Jessica Neuwirth': 3, u'Jomo Kenyatta': 3, u'Heglund': 3, u'Arlene Violet': 3, u'Nita Barrow': 3, u'Sissy Farenthold': 3, u'Dorothy Height': 3, u'Frene Ginwala': 3, u'Goodluck Jonathan': 3, u'Oprah Winfrey': 3, u'Harry': 3, u'Catherine Hamlin': 3, u'Francois Mitterrand': 3, u'Marjorie Holt': 3, u'Bezwoda': 3, u'Mother Teresa': 3, u'Ellen Johnson-Sirleaf': 3, u'Marc Lacey': 3, u'Elana Meyer': 3, u'Sigma Huda': 3, u'Idi Amin': 3, u'Cohen': 3, u'Botha': 3, u'Taylor': 3, u'Desmond Tutu': 3, u'Esther Coopersmith': 3, u'Mswati III': 3, u'Werner Bezwoda': 3, u'Richard': 3, u'Granny': 3, u'Paul W. Schmidt': 3, u'Kirkpatrick': 3, u'Casey': 2, u'Desmond M. Tutu': 2, u'Mary Burton': 2, u'Cynthia Eyakuze Director': 2, u'Rupiah Banda': 2, u'Tony Leon': 2, u'Stephanie': 2, u'McColgan': 2, u'Kuzwayo': 2, u'Selma James': 2, u'Cuvier': 2, u'Ali': 2, u'Irene': 2, u'Abankwah': 2, u'Delillah Asiago': 2, u'Ngwenya': 2, u'Theo van Gogh': 2, u'Tawakkol Karman': 2, u'Ahmed': 2, u'Sirma': 2, u'Lenora Cole Alexander': 2, u'Williams': 2, u'Lewis': 2, u'Nita': 2, u'Munir Akram': 2, u'Mangosuthu Buthelezi': 2, u'Mohammed Farah Aidid': 2, u'Burton': 2, u'Wangari': 2, u'Holmes': 2, u'Margaret Kenyatta': 2, u'Norman C. Heglund': 2, u'Oliver Tambo': 2, u'Tony Blair': 2, u'Panfil': 2, u'Layli Miller Bashir': 2, u'Charles E. Schumer': 2, u'Gray': 2, u'Martha': 2, u'Fred Okuku': 2, u'Pulido de Briceno': 2, u'Hudson': 2, u'Chirwa': 2, u'Margaret Heckler': 2, u'Simfukwe': 2, u'Masai': 2, u'Graca Machel': 2, u'Mahmoud': 2, u'Reg': 2, u'Saartjie Baartman': 2, u'Amie Kandeh': 2, u'Mayorsky': 2, u'Giuliani': 2, u'Hassiba Boulmerka': 2, u'Ayaan Hirsi Ali': 2, u'Martin': 2, u'Kassindja': 2, u'Julia Miles': 2, u'Winnie Madikizela-Mandela': 2, u'Walsh': 2, u'Shah': 2, u'Elizabeth': 2, u'Glenda Gray': 2, u'Maureen': 2, u'Peter Piot': 2, u'Kristof': 2, u'Boehringer Ingelheim': 2, u'Bogaletch Gebre': 2, u'Roelof F. Botha': 2, u'Molly Blackburn': 2, u'Richard G. Lugar': 2, u'Mary Namata': 2, u'Mariflor Parpan': 2, u'Stephen': 2, u'Walter Sisulu': 2, u'Winnie': 2, u'Al Qaeda': 2, u'Lawal': 2, u'George Kunda': 2, u'Nomvula Qosha': 2, u'Sheena Duncan': 2, u'Johnson': 2, u'Schroeder': 2, u'Alan Lee Keyes': 2, u'Lemokouno': 2, u'Mark Heywood': 2, u'Rachel L. Swarns': 2, u'Phil Donahue': 2, u'Okuku': 2, u'Mamphela Ramphele': 2, u'Mervat': 2, u'Phyllis Klotz': 2, u'Fauziya Kassindja': 2, u'Daniel Bergner': 2, u'Ellen': 2, u'Mary': 2, u'Joy Phumaphi': 2, u'Nono Simelela': 2, u'Michaela Walsh': 2, u'Amina Lawal': 2, u'Orton': 2, u'Mswati': 2, u'van Gogh': 2, u'Moses': 2, u'Rao Gupta': 2, u'Ayatollah Ruhollah Khomeini': 2, u'Emmanuel Makanza': 2, u'Monteiro': 2, u'Margaret Tutwiler': 2, u'Doe': 2, u'Sophie': 2, u'Navanethem Pillay': 2, u'Koornhof': 2, u'Donald Gips': 2, u'Rosa': 2, u'Vera Chirwa': 2, u'Dame Nita': 2, u'Bella Abzug': 2, u'Bashir': 2, u'Malia': 2, u'Jane Fonda': 2, u'Wanda Panfil': 2, u'Nur': 2, u'Nancy Kassebaum': 2, u'Abzug': 2, u'De Cock': 2, u'Surita Sandosham': 2, u'Robinson': 2, u'Edna Adan': 2, u'Betty Shabazz': 2, u'Blackburn': 2, u'Black Sash': 2, u'Sierra Leone': 2, u'Hassan': 2, u'Mark Mathabane': 2, u'Hamlin': 2, u'Radhika Coomaraswamy': 2, u'Carter': 2, u'Thomas H. Hogan': 2, u'Susan Sirma': 2, u'Jesse Jackson': 2, u'Davis': 2, u'Catherine': 2, u'Jacob G. Zuma': 2, u'Baartman': 2, u'Nkosazana Dlamini-Zuma': 2, u'Machel': 2, u'Rhodes': 2, u'Fatuma Roba': 2, u'Howard': 2, u'Hirsi Ali': 2, u'Jessica': 2, u'Mathabane': 2, u'Liz McColgan': 2, u'Annie Lennox': 2, u'Colin Pfaff': 2, u'Bill Clinton': 2, u'Manto Tshabalala-Msimang': 2, u'Fawzia Hashim': 2, u'David Martin': 2, u'Chris Botha': 2, u'Venus': 2, u'Steinem': 2, u'Donahue': 2, u'Stephen Lewis': 2, u'Jesus': 2, u'Allan Rosenfield': 2, u'Chalmers': 2, u'Albertina Sisulu': 2, u'Lois Haight Herrington': 2, u'Sirleaf': 2, u'Jeffrey Gettleman': 2, u'Gloria Steinem': 2, u'Arvonne S. Fraser': 2, u'Neuwirth': 2, u'Geeta Rao Gupta': 2, u'LUISA': 2, u'Bethlehem Tilahun': 2, u'Madeleine K. Albright': 2, u'Paul Kagame': 2, u'Ellen Kuzwayo': 2, u'Makanza': 2, u'Johnson-Sirleaf': 2, u'Victoria Otumfuor': 2, u'Florence Simfukwe': 2, u'Paul Theroux': 2, u'Ronald Reagan': 2, u'Alice Walker': 2, u'Kabwela': 2, u'Fawcett': 2, u'Nkosazana Zuma': 2, u'Ndlovu': 2, u'Barack Obama': 2, u'Kofi Annan': 2, u'Carolyn B. Maloney': 2, u'Oprah': 2, u'Hastings K. Banda': 2, u'Laurent Kabila': 2, u'Sarah Harder': 2, u'Pfaff': 2, u'Friedan': 2, u'Geli': 2, u'Sasha': 2, u'Chelsea': 2, u'Virginia Allan': 2, u'Kabila': 2, u'Pillay': 2, u'Birnin Kudu': 1, u'Kahane': 1, u'Bateson': 1, u'Roche': 1, u'Hinojosa': 1, u'Olivia Moore': 1, u'Bamuwamye': 1, u'Corbin Seavers': 1, u'Russell Baker': 1, u'Florence Butegwa': 1, u'Rose Bampton': 1, u'Lisa Blum': 1, u'Bridget Osekwe': 1, u'Lungu': 1, u'Sarah Weddington': 1, u'Alain Awona': 1, u'Jennings': 1, u'Heidi Larson': 1, u'Hiwot Taddesa': 1, u'Zwai': 1, u'Jadelle': 1, u'Johannes Kana': 1, u'Kate Zuma': 1, u'WANGARI MAATHAI': 1, u'Fakir': 1, u'Jeanne Shaheen': 1, u'Ismael Omar Gelleh': 1, u'Allan Boesak': 1, u'Kennedy Odede': 1, u'Kirstie Trup': 1, u'KATE GRANT': 1, u'Alex Reed': 1, u'Newt Gingrich': 1, u'Mathias Jr.': 1, u'Elvis Mitchell': 1, u'Ali Abdullah Saleh': 1, u'Estelle Griswold': 1, u'Charles McC': 1, u'Nofemela': 1, u'Longinotto': 1, u'Godwin Mawuru': 1, u'Boris G. Mayorsky': 1, u'Keith Richburg': 1, u'Longe': 1, u'Asha Haji Elmi': 1, u'Noor': 1, u'Katherine Blakeslee': 1, u'Bailey': 1, u'Alice Proujansky': 1, u'Akram': 1, u'Fatima Elhanna': 1, u'Margaret Snyder': 1, u'Edward Bennett Williams': 1, u'Charles P. Sifton': 1, u'Irene Mae Petty': 1, u'Raymond Anthony': 1, u'Benedict J. Ferro': 1, u'Ohenhen': 1, u'Wangari Muta': 1, u'JACKSON': 1, u'de Beer': 1, u'Luthando': 1, u'Aloisea Inyumbe': 1, u'Hawa Khalidi': 1, u'Haugen': 1, u'Cole': 1, u'Calvin Klein': 1, u'Issoufou': 1, u'Elman': 1, u'Syalus Maharana': 1, u'Evelyn Fox Keller': 1, u'Elizabeth Moyo': 1, u'Kaneno': 1, u'Esther Afua Ocloo': 1, u'Petty': 1, u'Sylvia Mosqueda': 1, u'Joan Grover': 1, u'Eyadema': 1, u'Marianne Bez': 1, u'Perez de Cuellar': 1, u'Okayo': 1, u'Sohini Chakraborty': 1, u'Frederick Douglass Boulevard': 1, u'McNab': 1, u'James L. Deger': 1, u'Ronnie Abrams': 1, u'Ondieki': 1, u'Chantal Campaore': 1, u'Vernon': 1, u'McFadden': 1, u'Fareed Abdullah': 1, u'Ngugi': 1, u'Bernice': 1, u'Mujuru': 1, u'Sam Nunn': 1, u'MARY DIAZ': 1, u'Mashinini': 1, u'Khaleda Zia': 1, u'Mariam Razak': 1, u'Rick Maples': 1, u'Crocker': 1, u'Lydia Ngwenya': 1, u'Tshabala': 1, u'Pieter G. Koornhof': 1, u'Lavonne Mueller': 1, u'Pienaar': 1, u'Camfed': 1, u'Kembata-Tembaro': 1, u'Frances Johnson-Morris': 1, u'Ellie': 1, u'Muhammad': 1, u'Jimmy Jajua': 1, u'Charles Guggenheim': 1, u'John Mwamba': 1, u'Falalu Mohammed Tukur Gantsa': 1, u'Ian Khama': 1, u'IRENE NJOROGE': 1, u'Jonathan Martel': 1, u'Xaba': 1, u'Redi Direko': 1, u'Sibongile Sambo': 1, u'Hauwah': 1, u'Liz': 1, u'Goffman': 1, u'Sheik Fadhil Soraga': 1, u'Carole Doucet': 1, u'Michael Hinck': 1, u'Jean Lacouture': 1, u'Tecla Loroupe': 1, u'Muslims': 1, u'Jennifer Anguko': 1, u'Colin Bundy': 1, u'Mokaba': 1, u'Guillaume Bridji Lebri': 1, u'Mariam': 1, u'Fausto Melotti': 1, u'Mbarouk': 1, u'Bachelet': 1, u'Amina Ahmed': 1, u'Steve Gericke': 1, u'Hugo K. Foster': 1, u'Stanley Tucci': 1, u'Michael Eric Dyson': 1, u'Odehouri': 1, u'Ramdas': 1, u\"Kathy O'Meara\": 1, u'Sandy Stewart': 1, u'John Githongo': 1, u'JANE': 1, u'Kathy Bonk': 1, u'Barbara Masekela': 1, u'Nina Chaudry': 1, u'Adhimabo': 1, u'Montgomery': 1, u'Njau': 1, u'Richard Nixon': 1, u'Beatrice Kiraso': 1, u'Samora M. Machel': 1, u'Pipi': 1, u'Mamitu': 1, u'Andy Sachs': 1, u'Gerard Burrell': 1, u'Pate': 1, u'Helen': 1, u'JULIA COTTS MAUDE STANDISH Annandale-on-Hudson': 1, u'Wangari Maathai Head': 1, u'Filppu': 1, u'Sally Armstrong': 1, u'Francois Migeat': 1, u'Olanike': 1, u'Steven J. McAuliffe': 1, u'Paul S. Sarbanes': 1, u'Frances Moore Lappe': 1, u'Jessie Hackes': 1, u'Tamika': 1, u'Aisha Ahmed Hassan': 1, u'Tara Higgins': 1, u'Margaret Thuo': 1, u'Guldunya Toren': 1, u'Witdoeke': 1, u'Klotz': 1, u'Maria Hinojosa': 1, u'Nakigudde': 1, u'Merrick Polansky': 1, u'Valeria Vasilevski': 1, u'Achim Steiner': 1, u'Duncan': 1, u'John Yarkpawolo': 1, u'Gro Harlem Brundtland': 1, u'Mary Tadesse': 1, u'Ann L. Stanford': 1, u'Marilyn French': 1, u'NJOROGE': 1, u'Farieda Omar': 1, u'Senomou Soucko': 1, u'Fofana': 1, u'Lindiwe Cele': 1, u'Augustin Bizimungu': 1, u'Sipphokazi Salie': 1, u'Goodwin': 1, u'Dame Nita Barrow': 1, u'Dave Racaniello': 1, u'Musa': 1, u'Ian McEwan': 1, u'William': 1, u'Zoya Hasan': 1, u'Likhapha Mbatha': 1, u'Hillier': 1, u'Hendrik Cesars': 1, u'Meyer': 1, u'Katrin': 1, u'Nekemia Matembe': 1, u'Sven Lindqvist': 1, u'Noreen Nolan': 1, u'Maryan Hirsi Ibrahim': 1, u'Lerato': 1, u'Edwin Moses': 1, u'Rota': 1, u'Ali Mbarouk': 1, u'Diane Muhfeld': 1, u'Rosenberg': 1, u'William J. Perry': 1, u'Naomi Tutu-Seavers': 1, u'Jane Otieno': 1, u'Ramphele': 1, u'Nelson Ntshangase': 1, u'Sisulu': 1, u'Anja Wolz': 1, u'Cooper': 1, u'Awa Kone': 1, u'Josef Mengele': 1, u'Denis Afande': 1, u'Christiane Welflens': 1, u'John J. McCloy': 1, u'John Solomon': 1, u'Stephanie Sharp Waterman': 1, u'Virginia Azevedo': 1, u'Djita Keita': 1, u'Martha Stewart': 1, u'Dominique Gentil': 1, u'Fulani': 1, u'Zainab Hassan Mohamed': 1, u'Fawzi': 1, u'Lucrecia Paco': 1, u'Prest': 1, u'Gwendolen': 1, u'Fitzgibbon': 1, u'PATRICK': 1, u'Robert F. Trent': 1, u'Griselda Gambaro': 1, u'Helon Habila': 1, u'Rita Louise': 1, u'Sally Mugabe': 1, u'George Smathers': 1, u'Shirin Ebadi': 1, u'Carl Lewis': 1, u'Blanche Knott': 1, u'Rollins Lambert': 1, u'Miller': 1, u'Paul D. Blumenthal': 1, u'Madonna': 1, u'Joseph R. Biden Jr.': 1, u'NDiaye': 1, u'Kaunda': 1, u'Martha Saenz': 1, u'Hallingby': 1, u'Ilaria Venturini Fendi': 1, u'Luisa Dias Diogo': 1, u'Naimer': 1, u'Patrick Sang': 1, u'Theo': 1, u'Carlos Rozano': 1, u'Joan Benoit Samuelson': 1, u'Christian': 1, u'Roudy': 1, u'Zodwa Pakade': 1, u'Dahabo Isse': 1, u'Luul Gebreab': 1, u'STALIN': 1, u'Joyce Wairimu Kanyua': 1, u'Joan V. Churchill': 1, u'Abayatou Barry': 1, u'Sharon L. Hillier': 1, u'Mofokeng': 1, u'Mark Hudson': 1, u'Caroline Elkins': 1, u'Whiteside': 1, u'Lucy': 1, u'Bonk': 1, u'Ghirmay Hadgu': 1, u'Alcino Ferreira-Jorge': 1, u'Comey': 1, u'Bohringer-Ingelheim': 1, u'Conrad': 1, u'Rosemary': 1, u'Ito': 1, u'Valoyi': 1, u'Anna Kisselgoff': 1, u'Bullock': 1, u'Aisha Dirie': 1, u'John F. Gossart Jr.': 1, u'Bahalaaliwo': 1, u'Paul Ouedraogo': 1, u'Xandile Charlie': 1, u'Roy': 1, u'Cleaton-Jones': 1, u'Makiko Ito': 1, u'Dora Kanabahita': 1, u'Gertrude Manye Ikol': 1, u'pope': 1, u'Doretti': 1, u'Carey': 1, u'John C. Caldwell': 1, u'MRS. LESSING': 1, u'Powell': 1, u'Russell': 1, u'Kandeh': 1, u'Biehl': 1, u'Fred R. Owiti': 1, u'Amina E. Sambo': 1, u'Paula Radcliffe': 1, u'PHILIP B. KIVITZ': 1, u'Esino Guelle': 1, u'Lindiwe': 1, u'Jack V. Anquoe': 1, u'Yeltsin': 1, u'Sifton': 1, u'Sally Hayfron Mugabe': 1, u'Mark Schauber': 1, u'Strive Masiyiwa': 1, u'Sister Marie': 1, u'Martha Molete': 1, u'Lowe-Morna': 1, u'Deirdre N. McCloskey': 1, u'Sally': 1, u'Chris Cleave': 1, u'Thiam': 1, u'Rosemary Meny-Gibert': 1, u'Hadijatou Mani': 1, u'Alexander Dunlop': 1, u'Hawa Kenneh': 1, u'Bella': 1, u'Cesars': 1, u'Brourgh Hinds': 1, u'Sibongile': 1, u'Kay Dickersin': 1, u'John': 1, u'Jamaica Kincaid': 1, u'James Forrestal': 1, u'Duarte': 1, u'Arthur Harris': 1, u'Ruchira Gupta': 1, u'Estelle Adimi': 1, u'Muhammad Siad Barre': 1, u'Boutros-Ghali': 1, u'dos Santos': 1, u'Paul Nunn': 1, u'Adam Platt': 1, u'Gilbert Marcus': 1, u'Alberto Burri': 1, u'Massa Rogger': 1, u'Omagbemi': 1, u'Maples': 1, u'Hosokawa': 1, u'Aedian': 1, u'Roger Cohen': 1, u'Maollolo': 1, u'Danai Gurira': 1, u'CYNTHIA STEELE': 1, u'Nolusindiso Vani': 1, u'Arthur J. Goldberg': 1, u'Doris': 1, u'Mariam Ahmed': 1, u'Regina Joyce': 1, u'Mary A. Grefe': 1, u'Tamila Marshall': 1, u'Jessica Antonini': 1, u'Pallo Jordan': 1, u'Nadji Anthony Jeter': 1, u'Sabatova': 1, u'Alperin': 1, u'Lisa Ondieki': 1, u'Lois Hight Herrington': 1, u'Heinrichs': 1, u'Musa Ali Musa': 1, u'Raisa Smekhnova': 1, u'CONSTANCE MORRILL': 1, u'Albert Ernest Boateng': 1, u'Vince Musewe': 1, u'Alan Bullock': 1, u'Mthokozisi Mthembu': 1, u'Sarah Crowe': 1, u'John Holmes': 1, u'Augustine Chihuri': 1, u'Danielle Steel': 1, u'Blakeslee': 1, u'Mogae': 1, u'Brian Urquhart': 1, u'Marguerite Yourcenar': 1, u'Anne Somerset': 1, u'Hermes Hernandez': 1, u'George Clooney': 1, u'Adamu': 1, u'Ouizguen': 1, u'Adams': 1, u'Gertrude Nakigudde': 1, u'Tawakul': 1, u'Loretta Ross': 1, u'Alexandra': 1, u'Ocloo': 1, u'Connie van Praet': 1, u'Faker': 1, u'Sidney Sheldon': 1, u'Phyllia Tinyiko Nwamitwa': 1, u'Tulu': 1, u'Alfre Woodard': 1, u'Birhane': 1, u'Hadiatou Kamara': 1, u'Hlongwane': 1, u'Letitia Shahani': 1, u'Peter MacSporran': 1, u'Istill': 1, u'Lucinda Evans': 1, u'Malegaparu Makgoba': 1, u'Honorata Barinjibanwa': 1, u'Nancy Harrington': 1, u'Claire Roche': 1, u'Thoraya Ahmed Obaid': 1, u'Mzalendo': 1, u'Fikrte': 1, u'Natalie Sahi': 1, u'Hannis': 1, u'Saba Habte': 1, u'Simeesh Segaye': 1, u'Newman': 1, u'Osotimehin': 1, u'Genet Girma': 1, u'Hunter-Gault': 1, u'Abigail E. Disney': 1, u'CHESTER A. CROCKER': 1, u'Vakhegula Vakhegula': 1, u'Terry Tempest Williams': 1, u'Ruth Baum': 1, u'Roelf Meyer': 1, u'De Souza': 1, u'Gates': 1, u'Embolo': 1, u'Edward Djerejian': 1, u'Mina': 1, u'Bemba': 1, u'Glenda Jackson': 1, u'Hideo Nomo': 1, u'Mushonga': 1, u'Sarah': 1, u'Maynard H. Merwine': 1, u'Kaposi': 1, u'Goure': 1, u'Manocua': 1, u'Joseph W. Alsop': 1, u'Buregeya Deo': 1, u'Ssebunnya': 1, u'Joseph Lelyveld': 1, u'John Slade Ely House': 1, u'Colleen Lowe-Morna': 1, u'Arthur C. Clarke': 1, u'Jonathan': 1, u'Christine Schuler Deschryver': 1, u'Miss Hallingby': 1, u'Gao': 1, u'Lautenberg': 1, u'Mary Janes': 1, u'Mardi Gras': 1, u'Musewe': 1, u'Mimi Alperin': 1, u'Joe Slovo': 1, u'Hannah Jones': 1, u'James': 1, u'Obeng Mireku': 1, u'Flevian': 1, u'Simelela': 1, u'Oppenheimer': 1, u'Fardhosa Ali Mohamed': 1, u'Paul': 1, u'Rhulani Casswell Baloyi': 1, u'Grace Candiru': 1, u'Farishta Boura': 1, u'Mary Robinson': 1, u'Godwell Gwavava': 1, u'Olubanke Y. K. Akerele': 1, u'Fouzia Hassan': 1, u'Maria Lurdes Mutola': 1, u'William C. Davis': 1, u'Marleen Gorris': 1, u'Phoebe Asiyo': 1, u'Tizita Lemma': 1, u'Carol Bellamy': 1, u'Richard A. Boucher': 1, u'Helen Prest': 1, u'Wayne Ferreira': 1, u'Tom': 1, u'Mutamba': 1, u'Gerry Adams': 1, u'Bingu': 1, u'R. A. Dickey': 1, u'Karima Bennoune': 1, u'Marian Munyinda': 1, u'Doris Lessing': 1, u'Anders Nordstrom': 1, u'Ruth Perry': 1, u'Dave': 1, u'Thomas-Greenfield': 1, u'Keita': 1, u'Peter Mokaba': 1, u'Janet Fleischman': 1, u'Adrian Grenier': 1, u'Eileen Stillwaggon': 1, u'Boris N. Yeltsin': 1, u'Orlane Martine Mayi': 1, u'Beatrice Dlamini': 1, u'Lisa Flaxman': 1, u'David A. Martin': 1, u'Deger': 1, u'Tina Rosenbergrecently': 1, u'Roger-Fulgence Kassy': 1, u'Jean Ping': 1, u'Louise Riber': 1, u'Prince Johnson': 1, u'Marcelo Giugale': 1, u'Judy Chalmers': 1, u'Muuya': 1, u'Wanjiku': 1, u'Cameron': 1, u'Bess': 1, u'Madiba Mandela': 1, u'Shon Mathye': 1, u'Thurgood Marshall': 1, u'Mahabouba Mohammed': 1, u'Lehman': 1, u'Timothy Stamps': 1, u'George Eliot': 1, u'Abdullah': 1, u'Alexandra Fuller': 1, u'Ramphela Mamphele': 1, u'Bill Blass': 1, u'Cavagna': 1, u'JEFFERSON': 1, u'Jake Pickle': 1, u'Eugene Kayihura': 1, u'Caprisa': 1, u'Marthe': 1, u'Abud Qanan': 1, u'Miriam Tlali': 1, u'Akide': 1, u'Elvis': 1, u'Orton Chirwa': 1, u'Conable': 1, u'Christine van den Wyngaert': 1, u'Habila': 1, u'Felix Houphouet-Boigny': 1, u'Mary Mwanzia': 1, u'Anthony Bliss': 1, u'Sadako Ogata': 1, u'Donald G. McNeil Jr.': 1, u'Nana Benz': 1, u'Nick Nolte': 1, u'Frank Njenga': 1, u'Philip Norman': 1, u'Fiona Mavhinga': 1, u'Regine Kopplow': 1, u'Kristina Schake': 1, u'Bellamy': 1, u'Ensler': 1, u'C. B. Dunbar': 1, u'Henry Chakobe': 1, u'Mivumbi': 1, u'Pinto': 1, u'Tido von Schoen-Angerer': 1, u'David Marr': 1, u'Nimo Suleiman': 1, u'Jose Izazola-Licea': 1, u'Abigail': 1, u'Rahinatu Umoru': 1, u'Joyce Nkausu': 1, u'Elizabeth Mataka': 1, u'Tim McLaurin': 1, u'Mariama Barry': 1, u'Luc Montagnier': 1, u'Salter': 1, u'Gerard J. DeGroot': 1, u'Iraj Aedian': 1, u'Sheryl WuDunn': 1, u'Zachary': 1, u'Holly Coors': 1, u'David Brooks': 1, u'Jean Le Garrec': 1, u'Idi': 1, u'Anna Sabatova': 1, u\"Seif l'Islam\": 1, u'Ida': 1, u'Harald Schmid': 1, u'Margaret M. Heckler': 1, u'Florence Nwaonuma': 1, u'Gupta': 1, u'Wanjika Mwoita': 1, u'Charles': 1, u'Beka Ntsanwisi': 1, u'Lyndon LaRouche': 1, u'Mitterrand': 1, u'Anne Chiejine': 1, u'Seybou': 1, u'Keller': 1, u'Ann Cotton': 1, u'Farai Nyamuzihwa': 1, u'Abdool Karim': 1, u'Mandy Sullivan': 1, u'Tso': 1, u'Sidi M. Diawara': 1, u'Netshitenzhe': 1, u'Simelanne': 1, u'Zolia Lyco': 1, u'Flomo': 1, u'GIULIANI': 1, u'Piet Koornhof': 1, u'Alberto Baptista': 1, u'Nancy Kissinger': 1, u'Mathieu Ngudjolo': 1, u'Bambara': 1, u'Jackson Orem': 1, u'William Least Heat Moon': 1, u'Felix Tietche': 1, u'Mushawata': 1, u'Dickerson': 1, u'Leigh Hallingby': 1, u'Jon White-Spunner': 1, u'Robert B. Oakley': 1, u'Worku Zerai': 1, u'Shirley Conran': 1, u'Ladi Adamu': 1, u'Jokasi': 1, u'Dirie': 1, u'Medgar Evers': 1, u'Janet Wairimu': 1, u'Rogger': 1, u'Amina Saman Mohamed': 1, u'Parker': 1, u'Fatima': 1, u'McCarthy': 1, u'J. Scott Blackman': 1, u'Atyam': 1, u'Liz Lee': 1, u'Ahmed Kathrada': 1, u'Sarah Tinsley': 1, u'Nelson Monanka': 1, u'Marc Abdel Camara': 1, u'Hans Scholl': 1, u'Fraser': 1, u'Christa McAuliffe': 1, u'Silvia': 1, u'Fred Hutchinson': 1, u'Mohamed Farah Ali': 1, u'Marie NDiaye': 1, u'Haque': 1, u'Mwelase': 1, u'Rick': 1, u'Rich': 1, u'Jane': 1, u'Stuart Saunders': 1, u'Norman Mailer': 1, u'Zeda Rosenberg': 1, u'Mark Monis': 1, u'Trup': 1, u'Kreamer': 1, u'SoleRebels': 1, u'Tony Smith': 1, u'Iriarte': 1, u'Ahmed Haggag': 1, u'Niama Coulibaly': 1, u'Estelle Fouda': 1, u'Lopez': 1, u'MARY DIAZ Director': 1, u'Monique Adimi': 1, u'Derartu Tulu': 1, u'Eleanor Steber': 1, u'Arelys B. Parrales': 1, u'Mabinti': 1, u'Casale': 1, u'Dorothy Boesak': 1, u'Fazilin': 1, u'Blanche Wiesen Cook': 1, u'Leet': 1, u'Edwin Haviland Miller': 1, u'Boutros Boutros-Ghali': 1, u'John E. Sununu': 1, u'Wolde': 1, u'Bill Cosby': 1, u'Mileta Abreah': 1, u'Antoinette Dossa': 1, u'Loroupe': 1, u'Mary McCarthy': 1, u'Elly Katabira': 1, u'Ekbal Baraka': 1, u'Ritu Menon': 1, u'Camille Cosby': 1, u'Kenneth S. N. Matiba': 1, u'Alfred Nobel': 1, u'Thelma Hill': 1, u'Baleka Mbete': 1, u'Bruce Aylward': 1, u'Leo F. Buscaglia': 1, u'Bongiwe Dlamini': 1, u'ELLEN LEOPOLD': 1, u'Shalom': 1, u'Jean-Robert Pouget': 1, u'Barr': 1, u'Michael Holroyd': 1, u'Mercy Chidi': 1, u'Hiwet Yonanes': 1, u'Bilkisu Yusuf': 1, u'Abdou Idi': 1, u'Bogoro': 1, u'Nompumelelo Mkhwanazi': 1, u'Brown': 1, u'Vetten': 1, u'Miria': 1, u'Adriana Bertini': 1, u'Mary Benson': 1, u'Tayler': 1, u'Sydney Herlong': 1, u'Christa': 1, u'Haile Selassie': 1, u'Wrap': 1, u'Abney': 1, u'Anne Hathaway': 1, u'David Dolgenos': 1, u'Jody Boginski': 1, u'Watler Abmayr': 1, u'Lauren Weisberger': 1, u'Sobrero': 1, u'Cheik Oumar Sissoko': 1, u'Ntshangase': 1, u'Diana Russell': 1, u'Hevia': 1, u'Sandra Steingraber': 1, u'Steve Biko': 1, u'Mort Walker': 1, u'A. Darkpay Johnson': 1, u'Mariam Mohammed-Salem': 1, u'Arsene Shalom Ntahobali': 1, u'Tiana Norgren': 1, u'Yordanos Tekeste': 1, u'Kassebaum': 1, u'Maria Florez': 1, u'David Falkner': 1, u'Mahmoud Imam Omar': 1, u'Thomas Thompson': 1, u'Promise Mootle': 1, u'Ramla Mint Ahmed': 1, u'Mitzi Ayala': 1, u'Boris Mayorsky': 1, u'Juliane Chisupa': 1, u'Asiyo': 1, u'Rosario Green': 1, u'Ronald Muwenda Mutebi': 1, u'Felice D. Gaer  Geneva': 1, u'Gerntholtz': 1, u'Anna Manocua': 1, u'George Hotel': 1, u'Julius Alvin': 1, u'Pulerwitz': 1, u'Qosha': 1, u'Leslie': 1, u'Rachel Berlage': 1, u'Carol Lancaster': 1, u'Rawlings': 1, u'Milton Obote': 1, u'Francie Larrieu-Smith': 1, u'Samuel P. Harn Museum': 1, u'Gertrude Kani': 1, u'Michael Keaton': 1, u'Savit': 1, u'Benjamin Bernet': 1, u'Kevin M. De Cock': 1, u'Rihanna': 1, u'Tamakloe': 1, u'James Byrd Jr.': 1, u'Jah': 1, u'Wairimu': 1, u'Lindsey Bannister': 1, u'Matt Damon': 1, u'Perpetua Omary': 1, u'Christine Mullen Kreamer': 1, u'Cynthia McKinney': 1, u'Gostine Hallie': 1, u'Victoria Nekesa': 1, u'Sani Abacha': 1, u'Thomas Carr Wright Jr.': 1, u\"O'Connell\": 1, u'Casey Parks': 1, u'Aretha Busby': 1, u'George III': 1, u'Ddungu': 1, u'Gottlieb Monekosso': 1, u'Host Ruby Dee': 1, u'Angelina Acheng Atyam': 1, u'Ruth Leger Sivard': 1, u'Robert Johnson': 1, u'Lucy Wachuka': 1, u'Jarmila Novotna': 1, u'Mina Mauerstein-Bail': 1, u'Rana Badri': 1, u'Aminu Wali': 1, u'Wilhelmine Ntakebuka': 1, u'Bushuben Keita': 1, u'Rhoda Dorsey': 1, u'Clintons': 1, u'Joseph Ogbonna': 1, u'Bernadette': 1, u'Joice Mujuru': 1, u'Diallo': 1, u'Madame Sanvee': 1, u'Mwangi': 1, u'Ibironke Akinsete': 1, u'Peggy Porter': 1, u'Munyinda': 1, u'Eleanor Smeal': 1, u'Luz': 1, u'Mushira Chattab': 1, u'Chakraborty': 1, u'Luc': 1, u'James Symington': 1, u'Janet Reno': 1, u'Donatella Lorch': 1, u'Dolly Williams': 1, u'Davids': 1, u'Robin Lakoff': 1, u'Carol Kramer': 1, u'Paule Marshall': 1, u'Isselmou Ould Mohamed': 1, u'Monanka': 1, u'Deborah Tannen': 1, u'Joseph Wambaugh': 1, u'Rose Orishaba': 1, u'Carole Florman': 1, u'Lucio Fontana': 1, u'Sarah Moten': 1, u'Judy': 1, u'Melching': 1, u'Norman Heglund': 1, u'Ousmane Batoure': 1, u'Francesco Lo Savio': 1, u'Batie': 1, u'Karch Kiraly': 1, u'Marianne Dickerson': 1, u'Nekesa': 1, u'Venter': 1, u'Wanjira Maathai': 1, u'Anna Maria Horsford': 1, u'Elizabeth Wanjara': 1, u'William Ferguson': 1, u'Ole Danbolt Mjoes': 1, u'Christian Biassey': 1, u'Ngobese': 1, u'Omar Hassan al-Bashir': 1, u'Namata': 1, u'Blanco': 1, u'Sarah Doron': 1, u'Hausfater': 1, u'Sanvee': 1, u'R. McNeill Alexander': 1, u'Yai': 1, u'Khalidi': 1, u'Mathilda Smith': 1, u'Khurshid Zahan Haque': 1, u'Pascal Pipi': 1, u'Anthony': 1, u'Salman Rushdie': 1, u'Waaldijk': 1, u'Addisie Abosie': 1, u'S. M. Otieno': 1, u'Elaine Sciolino': 1, u'Penny Roteiser': 1, u'JOHN': 1, u'Deirdre': 1, u'Marianne Leonard': 1, u'Bundy': 1, u'Yusuf al-Qaradawi': 1, u'Yussuf Saloojee': 1, u'Patrick': 1, u'Miles': 1, u'Olsson': 1, u'David Lawsky': 1, u'A.A. Ndikuyeze': 1, u'Katanga': 1, u'Eduardo dos Santos': 1, u'Stephen Jr.': 1, u'Maharana': 1, u'Luiz Inacio Lula da Silva': 1, u'Marlies G': 1, u'Deborah Seligsohn': 1, u'Zilose': 1, u'Luella Klein': 1, u'Lynn Jennings': 1, u'Purdy': 1, u'Sibiya': 1, u'Carrol Boyes': 1, u'Robert Kitchen': 1, u'Carbonaro': 1, u'Annette Weber': 1, u'Luchia Yeshak': 1, u'Giovanni Cavagna': 1, u'Ellen Margrethe Loj': 1, u'Kiraso': 1, u'Berhane Ras-Work': 1, u'Lungile Ndlovu': 1, u'Vivian Gornick': 1, u'Balla Moussa Keita': 1, u'George J. Green': 1, u'Ory Okello': 1, u'Kevin De Cock': 1, u'Hiwot': 1, u'Paul Rusesabagina': 1, u'Stephen Mamza': 1, u'Silvia Galfo': 1, u'Jonathan Mann': 1, u'Irving Wallace': 1, u'Joachim Boers': 1, u'Phebe': 1, u'Nomagugu Ngobese': 1, u'Booysen': 1, u'Emmanuel Ndahiro': 1, u'Vera Nanfal': 1, u'Lornah Kiplagat': 1, u'Frankie': 1, u'Eddah W. Gachukia': 1, u'Butshingi': 1, u'Reg Hamlin': 1, u'Judy Norsigian': 1, u'Anyane-Yeboa': 1, u'Goldberg': 1, u'Ilguilas Weila': 1, u'Colton H. Bryant': 1, u'Jack Walsh': 1, u'Yenserha Mint Mohamed Mahmoud': 1, u'Ngai': 1, u'Kwataine': 1, u'Jessy Acen': 1, u'Tekleab': 1, u'Bingu wa Mutharika': 1, u'Diawara': 1, u'Babangida': 1, u'Samuel Mphatheni': 1, u'Barry': 1, u'Abdoulaye Diop': 1, u'Coetsee': 1, u'Joel Cohen': 1, u'Craigslist': 1, u'Muriel Rukeyser': 1, u'Luis Fondebrider': 1, u'Kate Sobrero': 1, u'Sophie Witter': 1, u'Mwesigye': 1, u'Piet Norval': 1, u'Stanley Jesudowich': 1, u'St. Luke': 1, u'Gidau Hail': 1, u'Brookman-Amissah': 1, u'black': 1, u'Masekela': 1, u'Patricia Vehgolou': 1, u'Gabriele Rosa': 1, u'Quarraisha Karim': 1, u'Amie': 1, u'Louis': 1, u'Linnette Otieno': 1, u'Sobhuza II': 1, u'Dominic J Kanaventi': 1, u'Nana Ataa Kusi-Pokua': 1, u'Emma Mashi': 1, u'Jacinta Wanjiku': 1, u'Chris Hani Baragwanath': 1, u'Frank Rich': 1, u'Salie': 1, u'Telesphory Kaneno': 1, u'Mimi Alperia': 1, u'David F. Noble': 1, u'Julie D. Belaga': 1, u'Karen Naimer': 1, u'Thomas L. Friedman': 1, u'Niama': 1, u'Willard Cates': 1, u'Bobo': 1, u'Shaheen': 1, u'John Macgowan': 1, u'Adrienne Germain President': 1, u'Hannelie de Beer': 1, u'Ramatou Lea Roger': 1, u'Toussaint Louverture': 1, u'Bernet': 1, u'Erving Goffman': 1, u'Layli Bashir Miller': 1, u'Olanguena Awono': 1, u'Kang Youwei': 1, u'Zinka Milanov': 1, u'Ruth Waithera': 1, u'Naka': 1, u'Toura': 1, u'Kang': 1, u'Pauline Konga': 1, u'Kana': 1, u'Brian Faker': 1, u'Emily Mbongwa': 1, u'Edward Sarul': 1, u'Miss Omaar': 1, u'Cecilia Lopez Montano': 1, u'Mary Diaz': 1, u'Andrew McBride': 1, u'Waleed Rashed': 1, u'Ngozi Okoli-Owube': 1, u'KARIN McQUILLAN': 1, u'Janet M. Turan': 1, u'Shilowa': 1, u'Kevin Akins': 1, u'Ginwala': 1, u'Mamza': 1, u'Anne Ngugi': 1, u'Julia Gitobu': 1, u'Silwane': 1, u'Kemper': 1, u'Waterman': 1, u'Moise Yameogo': 1, u'Mary Balikungeri': 1, u'Fumbani': 1, u'Adriaan Vlok': 1, u'Hmad': 1, u'Ali Jumaa': 1, u'Anne-Marie Corner': 1, u'Osita': 1, u'STEVENS': 1, u'Jerry J. Rawlings': 1, u'Jacob K. Javits': 1, u'Felicia Kentridge': 1, u'Joan Goodin': 1, u'Kemunto': 1, u'Bernard Muna': 1, u'Pamela Hogan': 1, u\"Sarah O'Rourke\": 1, u'Phiiliip': 1, u'Kathy Kemper': 1, u'Henry Ddungu': 1, u'James R. Cheek': 1, u'Jane Wyman': 1, u'Helene Cooper': 1, u'Nicephore Soglo': 1, u'Anguko': 1, u'Somali': 1, u'Mahabouba': 1, u'Aida Estefani': 1, u'Celine Dion': 1, u'Kalashnikov': 1, u'Abreah': 1, u'Meny-Gibert': 1, u'Editar Adhiambo': 1, u'Reena Spaulings': 1, u'Andrew Leynse': 1, u'Damba': 1, u'Isabel Quembo': 1, u'Quinlan': 1, u'McDermid': 1, u'Sarah Roberts': 1, u'Jodie': 1, u'Kouadio Brou Affoue': 1, u'Iris Zavala Martinez': 1, u'Lucia Wahu': 1, u'Kirumba Rotere': 1, u'Hersi': 1, u'Karen Ferreira-Jorge': 1, u'Marie-Chantal': 1, u'Hallie': 1, u'Tamale Mirundi': 1, u'Reno': 1, u'Nguyen Thi Binh': 1, u'Annie Abraham': 1, u'Pat Graney': 1, u'Lionel Mtshali': 1, u'Alan Whiteside': 1, u'Nathan Geffen': 1, u'Wolde Meskel Kostire': 1, u'Elhanna': 1, u'Zia': 1, u'Granny Naomi': 1, u'Thom Serrani': 1, u'Anne Vendig': 1, u'Sipho Mthathi': 1, u'Musu Mohai': 1, u'Nomi Ernst Leidner': 1, u'Thobeka Maqhutyana': 1, u'Ororho': 1, u'Catherine Fitzgibbon': 1, u'Yameogo': 1, u'Margaret': 1, u'Sarah Bahalaaliwo': 1, u'Silverman': 1, u'Kehinde Dbadamoisi': 1, u'Chantal Compaore': 1, u'Nili': 1, u'Carol Mandi': 1, u'Sissoko': 1, u'Mani': 1, u'Cama': 1, u'Maria Hannis': 1, u'Paula J. Dobriansky': 1, u'Martin Luther King': 1, u'Geoff Budlender': 1, u'Neria': 1, u'Virginia R. Allan': 1, u'Bill Frenzel': 1, u'LAURA STACHEL Kaduna': 1, u'Ould Salem': 1, u'Dolgenos': 1, u'Kenneth Silverman': 1, u'Karima Brown': 1, u\"Louis L'Amour\": 1, u'Mariama Kallon': 1, u'Antoinette': 1, u'Perry': 1, u'Marc': 1, u'Fartuun Adan': 1, u'Thomas S. Cooke': 1, u'Mark': 1, u'Mary Lacey': 1, u'Blackman': 1, u'Julie Brown': 1, u'Rachel Adhimabo': 1, u'Leroy Perry': 1, u'Joanne Jorissen Chiwaula Kumasi': 1, u'Montagnier': 1, u'Sentumbwe-Mugisa': 1, u'Hanna Njeri Ng': 1, u'John P. Remensnyder': 1, u'Mica Ertegun': 1, u'F.X. Toole': 1, u'Joseph Brown': 1, u'Amy Biehl': 1, u'Albright': 1, u'Besrate Mengeste': 1, u'Martin Luther King Jr.': 1, u'Mira': 1, u'CLINTON': 1, u'Dukuly': 1, u'James Hargreaves': 1, u'Wambui Otieno': 1, u'Eastwood': 1, u'Souleymane Naroua': 1, u'Jessy  Acen': 1, u'Chandra West': 1, u'Alexandra Bilak': 1, u'Wonderbra': 1, u'Kazibwe': 1, u'Meaghan McLaughlin': 1, u'Niang': 1, u'Ayanda Ntsaluba': 1, u'KATHLEEN B. JONES': 1, u'Catherine Embolo': 1, u'Morgan Freeman': 1, u'Chris Hani-Bara': 1, u'Leynse': 1, u'William Mutwol': 1, u'Muammar el-Qaddafi': 1, u'Ogata': 1, u'James Levinsohn': 1, u'Rhoda M. Dorsey': 1, u'Idrissa Fofana': 1, u'Melissa De Sousa': 1, u'Zehdi Labib Terzi': 1, u'Carlin': 1, u'James Rembold': 1, u'Cesar Katalega': 1, u'Shirlee Busbee': 1, u'Maureen Boyd': 1, u'Sean Casey': 1, u'Malcolm X': 1, u'Esther Afua Nkulenu': 1, u'M. Scott Peck': 1, u'Hadgu': 1, u'Felix Monteiro': 1, u'Iida': 1, u'George Orwell': 1, u'Razak': 1, u'Osama bin Laden': 1, u'Dominic Nxumalo': 1, u'Joe Mkhwanazi': 1, u'Laura Sanford': 1, u'Rukia': 1, u'Rebecca Weah': 1, u'Foster Mivumbi': 1, u'Abner Louima': 1, u'Gwendolen Brillianton': 1, u'Mayoress Molefi-Mochangana': 1, u'Miss Friedan': 1, u'Senomou': 1, u'Vincentia Canacco': 1, u'Zoe Hendrix': 1, u'Busby': 1, u'Nombalela Maollolo': 1, u\"Maureen O'Neill\": 1, u'Insaidoo': 1, u'David E. Martin': 1, u'Nouredine Francois': 1, u'McCormick': 1, u'Dorothy Zihlanga': 1, u'Blaine Harden': 1, u'Leclerc-Madlala': 1, u'Benedict XVI': 1, u'Neil Henry': 1, u'W. W. Norton': 1, u'Candiru': 1, u'Oli Cohen': 1, u'Eve Ensler': 1, u'Lenora Alexander': 1, u'Joyce Piliso-Seroke': 1, u'Kelvin Billing hurst': 1, u'Robert Ezzo': 1, u'Gary Haugen': 1, u'Kobusingye': 1, u'Peter Cleaton-Jones': 1, u'Townsend Hoopes': 1, u'Thomas J. Peters': 1, u'Tadesse': 1, u'Nancy Padian': 1, u'Faniswa Butshingi': 1, u'Tshabalala-Msimang': 1, u'Ahmed Jama Hersi': 1, u'Schmidt': 1, u'Zoya Zarubina': 1, u'Rosalynn Isimeto-Osibuamhe': 1, u'Chantal Biya': 1, u'Beka': 1, u'Sybil Harrington': 1, u'Doris Caridi': 1, u'Beko': 1, u'Calisher': 1, u'J.A. Makau': 1, u'Monkeybiz': 1, u'Jesesi Mungoshi': 1, u'Geoffrey Maloiy': 1, u'Wolz': 1, u'Teningue': 1, u'Georgina Nkulenu': 1, u'Madeleine Douan': 1, u'Andrew Young': 1, u'Tilda Swinton': 1, u'Laouratou Souley': 1, u'Jonathan M. Fishbein': 1, u'Silvanus Melea Otieno': 1, u'Geir Lundestad': 1, u'Naka Nathaniel': 1, u'Carla': 1, u'Ms. Kamara': 1, u'Carla Rahn Phillips': 1, u'Onica Ndzhovela': 1, u'Barbara Taylor Bradford': 1, u'Anikwata': 1, u'Mao Zedong': 1, u'Durant': 1, u'Kent Steffes': 1, u'Mable Mutamba': 1, u'Shakuru': 1, u'Mina Hassan Mohamed': 1, u'Deschryver': 1, u'Sylvia': 1, u'Roba': 1, u'Andrew Harding': 1, u'Shehu Shagari': 1, u'Senait Tekleab': 1, u'Lumiere': 1, u'Ferguson': 1, u'Pat Schroeder': 1, u'Bonnie Carryer': 1, u'Bustan Abraham': 1, u'Jiang': 1, u'Ntsanwisi': 1, u'Susan': 1, u'Charlie': 1, u'Mohammed': 1, u'Grace Osakue': 1, u'Sandosham': 1, u'Olive Sentumbwe-Mugisa': 1, u'Vera Duarte': 1, u'Spencer': 1, u'Bagalaaliwo': 1, u'Margaret Lycette': 1, u'Dinguiraye': 1, u'Lucy Njeri Karuru': 1, u'Saloojee': 1, u'Nestle Milo': 1, u'Jarel': 1, u'Keenan': 1, u'Charles Busch': 1, u'Farhiyo Farah Ibrahim': 1, u'Daniel M. Mokaya': 1, u'Hauwah Abubakar': 1, u'WOODROW WILSON': 1, u'Farenthold': 1, u'Aidid': 1, u'Benjamin O. Anderson': 1, u'Sidney Poitier': 1, u'Jhpiego': 1, u'Genoveva Anonma': 1, u'Lady Chatterley': 1, u'Terhas Iyassu': 1, u'Elizabeth Rohatyn': 1, u'Paschal Mdoe': 1, u'Maureen Ororho': 1, u'Raakiya Omaar': 1, u'Joan van Niekerk': 1, u'Editar': 1, u'Richard Reeves': 1, u'Akayesu': 1, u'Frank Toews': 1, u'Sanvee Epe Patience Kouamba': 1, u'Roger': 1, u'Rina Venter': 1, u'Nzo': 1, u'Chessy Rayner': 1, u'Gurira': 1, u'Aristophanes': 1, u'Weddington': 1, u'Janet Kabeberi-Macharia': 1, u'FRED T. SAI': 1, u'IBRAHIM BABANGIDA': 1, u'Mahabouba Muhammad': 1, u'Cathleen P. Black': 1, u'Gips': 1, u'Candice Miranda': 1, u'Bilkhere': 1, u'Hitler': 1, u'Jacinta': 1, u'Lawrence Hill': 1, u'Ramatou Issoufou': 1, u'Borkor': 1, u'Canaan Banana': 1, u'Virginia Anikwata': 1, u'Kiplagat': 1, u'Abdullahi Salat': 1, u'Ogbonna': 1, u'Monia Gusain': 1, u'M. M. Kaye': 1, u'Doukoure': 1, u'Martha Karua': 1, u'Isimeto-Osibuamhe': 1, u'Anquoe': 1, u'Fall': 1, u'Muhammad Kasinga': 1, u'Nwamitwa': 1, u'Jane Ngotho': 1, u'Awa Thiam': 1, u'Kenneth J. Montgomery': 1, u'Esmail Ahmed': 1, u'Janet Omolara Osita': 1, u'Zara Witkin': 1, u'Schneider': 1, u'Agnes Sehole': 1, u'Valente Inziku': 1, u'Mokaya': 1, u'Marumo Moerane': 1, u'Lisa': 1, u'Ferro': 1, u'Archibald Little': 1, u'Churchill': 1, u'Mabel Tobee': 1, u'Chen Man': 1, u\"Albertine N'Guessan Brou\": 1, u'Jane Salumae': 1, u'Fili': 1, u'de la Renta': 1, u'Bangura': 1, u'Lovin Kobusingya': 1, u'Eric Ntabazalila': 1, u'Robert H.  Waterman Jr.': 1, u'Patrick French': 1, u'Kenny Adebayo': 1, u'Navanethem Pillai': 1, u'Deena Drossin Kastor': 1, u'Benjamin': 1, u'Ghanaian-American': 1, u'THERESA LOAR Director': 1, u'Esmail': 1, u'Miriamu': 1, u'Otelia': 1, u'Saartkie Baartman': 1, u'Valentina Tereshkova': 1, u'Tomal': 1, u'Andrea Weiss': 1, u'Bahai': 1, u'Sambo': 1, u'Waitz': 1, u'Mamitu Gashe': 1, u'Don Cheadle': 1, u'Elliot': 1, u'Paul Bowers': 1, u'Latine Sizani': 1, u'Regina Horton': 1, u'Larson': 1, u'James McIntyre': 1, u'Maryann Ali': 1, u'Aristides Pereira': 1, u'Rose': 1, u'Joseph': 1, u'Buchi Emecheta': 1, u'Jessy': 1, u'Mutwol': 1, u'Beatrice Tshabala': 1, u'Leslie Robinson': 1, u'Mia Hamm': 1, u'Hui Cong Shi': 1, u'Kenneth Kaunda': 1, u'Peggy Davis': 1, u'Hawthorne': 1, u'El Museo del Barrio': 1, u'Kunin': 1, u'Chelsea Settles': 1, u'Paul Domson': 1, u'Philisa Abafazi Bethu': 1, u'Ampah': 1, u'Zachi Achmat': 1, u'Isel Rivero': 1, u'Rachel Holmes': 1, u'Aviva Jane Carlin': 1, u'Chang': 1, u'Timothy Richard': 1, u'Muhammad Isse': 1, u'Smathers': 1, u'Evans': 1, u'Ian McGowan': 1, u'Ed': 1, u'Kenneth S. Warren': 1, u'Emily Catanuso': 1, u'Kevin': 1, u'Wadia': 1, u'Patel': 1, u'Mwanzia': 1, u'Alcino': 1, u'J. K. Lasser': 1, u'Warren Hutcherson': 1, u'Mary McFadden': 1, u'Georges Leopold Chretien Cuvier': 1, u'Djita': 1, u'Salimata Niang': 1, u'Kim Kardashian': 1, u'Babbar Ruga Hospital': 1, u'Tamika Jones': 1, u'Sylvia Nalubowa': 1, u'Raymond Weiss': 1, u'Evan Thomas': 1, u'Bernardus Fourie': 1, u'Angelique Kidjo': 1, u'Meghan': 1, u'Mitchell': 1, u'Emecheta': 1, u'Grenville': 1, u'Caridi': 1, u'Altman': 1, u'Dualeh': 1, u'Bidu Sayao': 1, u'Le Garrec': 1, u'Douglas Brinkley': 1, u'Marayah Fyneah': 1, u'Boers': 1, u'Glynis Rhodes': 1, u'Nancy Carpenter': 1, u'J. Brian Atwood': 1, u'Marion Barry': 1, u'Dora Ayonga': 1, u'Kayode': 1, u'Jeane J. Kirkpatrick': 1, u'Mkhwanazi': 1, u'Avabai B. Wadia': 1, u'Oscar Monteiro': 1, u'Eberstadt': 1, u'William Safire': 1, u'Buwunga': 1, u'Giselle Miski': 1, u'Corporal Dbadamoisi': 1, u'Moi President Moi': 1, u'Courteau': 1, u'Kombe': 1, u'God': 1, u'Connell': 1, u'Kim Shkapich': 1, u'Odar': 1, u'Diana Flomo': 1, u'William Dunlop': 1, u'Fendi': 1, u'Francis X. Carlin': 1, u'William D. Phillips Jr.': 1, u'Power': 1, u'Elisabeth Delatour': 1, u'Juantorena': 1, u'Nia': 1, u'Ruth Mompati': 1, u'Lucia': 1, u'Marjorie Oludhe Macgoye': 1, u'Kim': 1, u'Hilary Ng': 1, u'Obende Kayode': 1, u'Obong Rita Akpan': 1, u'Larrieu-Smith': 1, u'Seuss': 1, u'Raqiya Haji Dualeh': 1, u'Vernon E. Jordan Jr.': 1, u'Claudine Schneider': 1, u'Kim Longinotto': 1, u'Martins': 1, u'Daso': 1, u'Tiisetso Makhurane': 1, u'Chihana': 1, u'Helen Rees': 1, u'Stella McCartney': 1, u'Nadine Gordimer': 1, u'Khadija Mapetla': 1, u'Phebe Hospital': 1, u'Kees Waaldijk': 1, u'Miriam Ungerer': 1, u'Lennox': 1, u'Martha Nussbaum': 1, u'Thomas Lubanga': 1, u'Bin Laden': 1, u'Christine McNab': 1, u'Adrienne Germain': 1, u'Josephine Bamuwamye': 1, u'Winfrey': 1, u'Freeman': 1, u'Laura Hershey': 1, u'Kasindi Wabulasa': 1, u'Tiffeny Milbrett': 1, u'Hope Mwesigye': 1, u'Germain Katanga': 1, u'Yves Moumbe': 1, u'Lessing': 1, u'Ibrahim Bundu': 1, u'Leocadio Blanco': 1, u'Marian Robinson': 1, u'Ecare': 1, u'Abdi': 1, u'Mohseen Moosa': 1, u'Miss Dickerson': 1, u'Phineas': 1, u'Rizzoli': 1, u'Elhadj Traore': 1, u'Frances McCormick': 1, u'Veronica Chambers': 1, u'Pereira': 1, u'Elizabeth Alabi': 1, u'Paulina': 1, u'Sunila Abeyesekera': 1, u'Maria Helena Pinto': 1, u'NEIL GENZLINGER': 1, u'Ousmane': 1, u'James B. Comey': 1, u'Charlayne Woodard': 1, u'Stephanie Clohesy': 1, u'Phumaphi': 1, u'Leah Tutu': 1, u'Lauri Steven Filppu': 1, u'Routledge': 1, u'Mjoes': 1, u'Nanyuma': 1, u'Charles Kafunda': 1, u'Mohamed Ahmed': 1, u'Penny Dolin': 1, u'Rachel Jewkes': 1, u'John Maina': 1, u'Verne': 1, u'Beyan': 1, u'Kyalo': 1, u'Coomaraswamy': 1, u'Tokelo Pienaar': 1, u'Sona': 1, u'Houphouet-Boigny': 1, u'Nompumelelo Dlamini': 1, u'Erik Burns': 1, u'Lucy Gilson': 1, u'Toujie': 1, u'Bill Gates Sr.': 1, u'Chris Weiss': 1, u'Pauline Nyiramasuhuko': 1, u'Idrissou Seybou': 1, u'Jordana Confino': 1, u'Halala Sibiya': 1, u'Abraham Lincoln': 1, u'Elaine Brand': 1, u'Alfred A. Knopf': 1, u'William Rockefeller': 1, u'Letticia Viana': 1, u'Dara Carr': 1, u'Mohamed ElBaradei': 1, u'Vincent Hlongwane': 1, u'BETTY FRIEDAN': 1, u'Ngaya': 1, u'Ela Bhatt': 1, u'Gregory Landrey': 1, u'Matembe': 1, u\"Alfonse M. D'Amato\": 1, u'Ronald H. Brown': 1, u'Steve': 1, u'Patekile Holomisa': 1, u'Ana Langer': 1, u'Violet': 1, u'Festus Mogae': 1, u'Patricia Diaz Dennis': 1, u'Mwai Kibaki': 1, u'Mthembu': 1, u'G. M. Gershy-Damet': 1, u'Nordstrom': 1, u'Nsabimana': 1, u'Naroua': 1, u'RACHEL ROSENBLOOM': 1, u'Kunda': 1, u'Okoli-Owube': 1, u'Virginia Wambui Otieno': 1, u'Sarah Lawrence College': 1, u'John Simes': 1, u'Jodie Patterson': 1, u'Marjorie S. Holt': 1, u'Kimaiyo': 1, u'Bozman': 1, u'Barbara Skoblick': 1, u'Kojo Ampah': 1, u'Kabboura A\\xeft Ben Hmad': 1, u'Julie Pulerwitz': 1, u'McBride': 1, u'Ndereba': 1, u'Warner': 1, u'Florah': 1, u'Mathew Birir': 1, u'Rose Luz': 1, u'John Rewald': 1, u'Maye Mint Haidy': 1, u'Kollie Mulrah': 1, u'Judith Chikore': 1, u'Heribert Kentenich': 1, u'Fathi Ali': 1, u'Charamba': 1, u'Arthur Prest': 1, u'Saleh': 1, u'Rodney Hoff': 1, u'Alberto Juantorena': 1, u'Abbey Makoe': 1, u'Miss Njoroge': 1, u'Fred Schwengel': 1, u'Benedict': 1, u'Sylvia Mwelase': 1, u'Oakley': 1, u'Ndzhovela': 1, u'Italo': 1, u'MARIANNE  ROHRLICH': 1, u'Aung San Suu Kyi': 1, u'HITLER': 1, u'Cosby': 1, u'Emmerson Mnangagwa': 1, u'Rumasau': 1, u'Rivero': 1, u'Donald McHenry': 1, u'Stephen Reinhardt': 1, u'Anane': 1, u'Betty Freeman': 1, u'Emmanuel Macareno': 1, u'Hamdi Hassan Hashi': 1, u'About': 1, u'MALCOLM POTTS': 1, u'Priscilla Misihairabwi Mushonga': 1, u'Mohammad Ali Pate': 1, u'Nancy': 1, u'Assitan Diallo': 1, u'Bridget Oppenheimer': 1, u'Smekhnova': 1, u'Nimo Abdi': 1, u'Richard Kurin': 1, u'Schulte Nordholt': 1, u'George Howard': 1, u'Rentas': 1, u'Margaret Courtney-Clarke': 1, u'Fernando Mamede': 1, u'Janet Gallagher': 1, u'Uta Pippig': 1, u'Vincent Malm': 1, u'Peggy Watson': 1, u'Evelyn Ashford': 1, u'Simon Magqazana': 1, u'Salim S. Abdool Karim': 1, u'Joyce Naisho': 1, u'Joseph H. Melrose Jr.': 1, u'Jasmine': 1, u'Vivien Leone': 1, u'Mary McVeagh Tayler': 1, u'Yemane': 1, u'Tilahun': 1, u'Henry Ayensu': 1, u'Ouopba Motandi': 1, u'Mellors': 1, u'Joyce Mkandawire': 1, u'Shagari': 1, u'Yassine Fall': 1, u'Babatunde Osotimehin': 1, u'Zwelakhe Sisulu': 1, u'Tobee': 1, u'Julie Stewart': 1, u'Jacqueline Gareau': 1, u'Tobeka Maqhutyana': 1, u'Opal': 1, u'Jay Jacobson': 1, u'Richard Leacock': 1, u'Betty': 1, u'Mutharika': 1, u'Diane Cole': 1, u'Lesko': 1, u'Tekeste': 1, u'Laura Bush': 1, u'Willem Heath': 1, u'Bantu Holomisa': 1, u'Erik Moller': 1, u'Father Timothy Healy': 1, u'Douan': 1, u'HARRY M. ZUTZ': 1, u'Slovo': 1, u'Waweru': 1, u'Gwen Mahlangu': 1, u'Richard Anane': 1, u'Meles Zenawi': 1, u'Adam Liptak': 1, u'Kevin Slowey': 1, u'Mzihkona Nofemela': 1, u'Little': 1, u'Kayihura': 1, u'Kembatti Mentti Gezzima-Toppe': 1, u'Trent Lott': 1, u'Donald G Jr Mcneil': 1, u'Mohamed Siad Barre': 1, u'Alima Traore': 1, u'Diana E. H. Russell': 1, u'Fathia Mahmoud': 1, u'Dan Carbonaro': 1, u'Andy': 1, u'Rauchway': 1, u'Kaci': 1, u'Muhammad Ali Hassan': 1, u'Kuyo': 1, u'Nelson Chamisa': 1, u'Schwengel': 1, u'Barbara Leslie': 1, u'Maini Kiai': 1, u\"Brother Colm O'Connell\": 1, u'Marco Orlando Iriarte': 1, u'Tolbert': 1, u'Nathan Clumeck': 1, u'Fatamatou Touray': 1, u'Bill': 1, u'Budlender': 1, u'David': 1, u'L. Neil Steverson': 1, u'Gerry Mackie': 1, u'De Klerk': 1, u'Rashida Patel': 1, u'Emmanuel Odar': 1, u'Ms. WuDunn': 1, u'Miss Weiss': 1, u'Rakiya Omar': 1, u'Bosenge Ngaly': 1, u'Pape Syr Diagne': 1, u'Jonathan Rauchway': 1, u'Mickey Contractor': 1, u'Betty Makoni': 1, u'Poppy Tsira': 1, u'Dorothy': 1, u'Salim Abdool Karim': 1, u\"Fred M'membe\": 1, u'Frank R. Lautenberg': 1, u'Vuslat Dogan Sabanci': 1, u'Chris Hudson': 1, u'JESSICA NEUWIRTH': 1, u'Christopher J. L. Murray': 1, u'Mootle': 1, u'Lisa F. Jackson': 1, u'Karen Buglisi Weiler': 1, u'Alan DeCherney': 1, u'Josh Kron': 1, u'Pinkie Madlala': 1, u'Danielle Jones': 1, u'Mengistu Haile Mariam': 1, u'Ken Foreman': 1, u'Nehberg': 1, u'Lionel Messi': 1, u'Nqweni': 1, u'Adenike Ogunlesi': 1, u'Gugu Dlamini': 1, u'Iain Chalmers': 1, u'Robert Yates': 1, u'Busisiwe Beko': 1, u'Fazia Abdullah': 1, u'Rudolph W. Giuliani': 1, u'Frank Wisdom': 1, u'Edgar Kuchingale': 1, u'Asami': 1, u'Rosemary Chakwizira': 1, u'Chenidu': 1, u'Leon': 1, u'Alfredo Hevia Martin': 1, u'Saroor': 1, u'George W. Bush': 1, u'Kavita Ramdas': 1, u'Florence': 1, u'Gabriella Jimenez': 1, u'Matiba': 1, u'Osman Mahamud': 1, u'Alan C. Greenberg': 1, u'Ndahiro': 1, u'Alan Keyes': 1, u'Stephen Schondelmeyer': 1, u'Gornick': 1, u'Liesl Page-Shipp': 1, u'Muhammad Ali Muhammad': 1, u'Hawa Abdi': 1, u'Bernedette Muthien': 1, u'Jane Adiru': 1, u'Avery Robinson': 1, u'Ebiowei Awala': 1, u'Dormeyan': 1, u'Beatrice Elachi': 1, u'Max': 1, u'Mabinti Kamara': 1, u'A.': 1, u'Laetitia Van Der Assum': 1, u'Robert Dole': 1, u'Otelia Oteng': 1, u'Vigil': 1, u'Kabiro': 1, u'Nyatichi': 1, u'Mao': 1, u'Modupe Caxton Martins': 1, u'Donald V. Ferlise': 1, u'Nancy Seaver': 1, u'Donald T. Regan': 1, u'James Osogo': 1, u'Makoni': 1, u'John Durant': 1, u'Dahir Rayale Kahin': 1, u'Teningue Soucko': 1, u'John Atta Mills': 1, u'Reynolds': 1, u'Qaradawi': 1, u'Scott': 1, u'Ezra Pound': 1, u'Dean Jamison': 1, u'Yacouba': 1, u'Rachel Cohen': 1, u'Laurie Goodstein': 1, u'Reaux': 1, u'Dan Mofokeng': 1, u'Lisa Vetten': 1, u'Saadia Akouri': 1, u'Frederick Cuny': 1, u'Symington': 1, u'Karman': 1, u'Javu Mpenyisi': 1, u'Cyril Allen': 1, u'Nomonde Xundu': 1, u'McLaughlin': 1, u'Silas': 1, u'Emmanuel Makanzas': 1, u'Monique': 1, u'Grete Waitz': 1, u'Amina Jah': 1, u'Yarkpawolo': 1, u'Diarrah Sanogo': 1, u'Jorge Rafael Videla': 1, u'Paula Kuzmich': 1, u'Bernice Beyan': 1, u'Terry George': 1, u'Ethel J. Williams': 1, u'June Ahrens': 1, u'T. J. Aldington': 1, u'Rita Felciano': 1, u'Holland': 1, u'Paul A. Nejelski': 1, u'Washingtonian Raydean Acevedo': 1, u'Esther Levitan': 1, u'Joey Burns': 1, u'Mileta': 1, u'Daniel Gitensae': 1, u'Jonathan Davids': 1, u'Ines Alberdi': 1, u'EDGAR A. POE': 1, u'Ian Macleod': 1, u'Toni Killen': 1, u'Miller Bashir': 1, u'Mey': 1, u'Cyril Ramaphosa': 1, u'Mbugua': 1, u'Byron De La Beckwith': 1, u'Abiodun': 1, u'Lenore Dorset': 1, u'Baraka': 1, u'Deqo Noor': 1, u'Casey Ribicoff': 1, u'Margaret Thatcher': 1, u'Charles Makono': 1, u'Bouchra Ouizguen': 1, u'Reinhardt': 1, u'Boyd': 1, u'Bannister': 1, u'Tsega Tesfay': 1, u'Arthur Waskow': 1, u'Tucker': 1, u'Eduardo Paz Paula': 1, u'Sidwell Nwamitwa': 1, u'Kenneth Matiba': 1, u'J. K. LASSER': 1, u'Pakade': 1, u'Emma Bonino': 1, u'Momino Fara': 1, u'Diarrah Sanogo Bala': 1, u'Belafonte': 1, u'Kurungu': 1, u'Glen Leet': 1, u'Timothy Sembatya': 1, u'Courtney-Clarke': 1, u'Green': 1, u'Margie': 1, u'Mildred': 1, u'Rosario Manalo': 1, u'Kurin': 1, u'Jennifer': 1, u'Dullah Omar': 1, u'Abel Gonzalez Perez': 1, u'Maybe Beyan': 1, u'Yemane Abreah': 1, u'Maureen Corcoran': 1, u'Abdelahi Adan': 1, u'Carolyn Maloney': 1, u'Steny H. Hoyer': 1, u'Cheryl McDermid': 1, u'Assefaw Tekeste': 1, u'Francia Marquez': 1, u'Robert': 1, u'Vittorio Colizzi': 1, u'Molly Melching': 1, u'Ting Ting Zhu': 1, u'Helen Kimaiyo': 1, u'Manny Tamakloe': 1, u'Nicolas About': 1, u'Coretta Scott King': 1, u'Spencer Johnson': 1, u'Jewkes': 1, u'Ekpini': 1, u'Vijaya Mehta': 1, u'Hosi Richard': 1, u'Lakoff': 1, u'Sophia Longe': 1, u'MARYAM BABANGIDA': 1, u'Anene Booysen': 1, u'Ken Bugul': 1, u'Joy Fawcett': 1, u'Stuart Hart': 1, u'Janet Banana': 1, u'Rambo': 1, u'Craig Claiborne': 1, u'Vic Casale': 1, u'Kalthoun Hassan': 1, u'Nompumelelo Ntuli': 1, u'Fernande Aka': 1, u'Jacques Godfrain': 1, u'Jagland': 1, u'Eleanor Roosevelt': 1, u'Kenneth Blanchard': 1, u'Saartjie': 1, u'Zarember': 1, u'Arabs': 1, u'Frosch': 1, u'Indira': 1, u'Naisho': 1, u'Issa': 1, u'Rosenfield': 1, u'Maurizio Giuliano': 1, u'Miria Matembe': 1, u'Catherine Ndereba': 1, u'Molly': 1, u'Digkale': 1, u'Bourque': 1, u'Chama Cha Mapinduzi': 1, u'Boehringer-Ingelheim': 1, u'Petronelle Mongha': 1, u'Tutu': 1, u'Aurora Cunha': 1, u'Patricia Goldman': 1, u'Hosi Nwamitwa II': 1, u'Alexis': 1, u'Thomas Sankara': 1, u'Karolina Szabo': 1, u'Mdoe': 1, u'Annie Sasco': 1, u'Babbar Ruga': 1, u'Heckscher': 1, u'Clint Eastwood': 1, u'Robert Kimmel Smith': 1, u'Tomam Constance Yai': 1, u'Kai Bird': 1, u'Bernhard Schwartlander': 1, u'Klara Liden': 1, u'Mkandawire': 1, u'Jose Gregori': 1, u'Clyde Snow of Norman': 1, u'Aly Badra Doukoure': 1, u'van Niekerk': 1, u'William K. arap Siele': 1, u'Krisanne Johnson': 1, u\"Sidiki Bakaba N'Guessan\": 1, u'Gonzalez': 1, u'Hannah Abney': 1, u'Wilson': 1, u'Ekombe': 1, u'Katie Gee': 1, u'Tereshkova': 1, u'Lacouture': 1, u'Regina Norman Danson': 1, u'Robert Ssebunnya': 1, u'Jean-Paul Akayesu': 1, u'Chris Hani': 1, u'Margaret Okayo': 1, u'James A. Michener': 1, u'Shreen Abdul Saroor': 1, u'Beth Mugo': 1, u'Henry Francis': 1, u'Isseyas Aferworki': 1, u'Steyn Speed': 1, u'Brooks': 1, u'Jack Carlson': 1, u'Odette Murara': 1, u'Andrew M. Greeley': 1, u'Nomthetho Simelanne': 1, u'Birhane Fikade': 1, u'Kevin Cuddy': 1, u'Ann Spencer': 1, u'Richard Leakey': 1, u'Joyce Chepchumba': 1, u'John Vidal': 1, u'Gebre': 1, u'Brother': 1, u'Jean-Baptiste Bleu': 1, u'Anne Digkale': 1, u'Nancy Drew': 1, u'Adan': 1, u'Zwelakhe': 1, u'Buglisi Weiler': 1, u'Madame Boya': 1, u'Dave Laut': 1, u'Pauline': 1, u'Emmanuel': 1, u'Haruna Bakar': 1, u'Joseph Coors': 1, u'Badri': 1, u'Ushahidi': 1, u'Pierre M. Barker': 1, u'Louisa Tshivhasa': 1, u'Maureen Zarember': 1, u'Fardhosa': 1, u'MacDermot': 1, u'Mills': 1, u'Jane Clark': 1, u'Penuell Maduna': 1, u'Mohammed Siad Barre': 1, u'Pacifica Kemunto': 1, u'M.D. Accra': 1, u'Pertunia Matereke': 1, u'Annie Yarkpawolo': 1, u'Vera': 1, u'Awa Gueye Kebe': 1, u'WuDunn': 1, u'Hendrik F. Verwoerd': 1, u'Wanjira': 1, u'Damba Koroma': 1, u'Starlin Arush': 1, u'Serafina': 1, u'Bigg': 1, u'Michael Prest': 1, u'Irene Wambui': 1, u'Sehole': 1, u'Dina H. Powell': 1, u'Nafis Sadik': 1, u'David Alpern': 1, u'Agnes': 1, u'Will C. Petty': 1, u'Acen': 1, u'MARK MATHABANE': 1, u'Mercedes Pulido de Briceno': 1, u'Chakobe': 1, u'Ehounou Ekpini': 1, u'Niall MacDermot': 1, u'Jacque Edmonds Cofer': 1, u'Dupay': 1, u'Olayiwola Olanike': 1, u'Zainab Bangura': 1, u'Al Shabab': 1, u'Alan Geoffrey Quinlan': 1, u'JON CARAMANICA': 1, u'Andre Bourque': 1, u'Wael Ghonim': 1, u'Miss Prest': 1, u'Nikkole Salter': 1, u'Mary Catherine Bateson': 1, u'Joan Frosch': 1, u'Betty Shapiro': 1, u'Specioza Kazibwe': 1, u'Patrick\\xa0Adams': 1, u'Nicholas Barrachin': 1, u'Hawa': 1, u'Carla Reed': 1, u'Nokuthula Masango': 1, u'Alice Mayhew': 1, u'Hortense Calisher': 1, u'Nomkhita Nqweni': 1, u'Birir': 1, u'Madeleine Kunin': 1, u'Fiona Sampson': 1, u'Nomo': 1, u'Zackie Achmat': 1, u'Obasanjo': 1, u'David Cameron': 1, u'Charles Kipkorir': 1, u'Toni Morrison': 1, u'Kenneth Elliott': 1, u'Siriel Nanzia Massawe': 1, u'Richard Mokhapela': 1, u'Jakaya Kikwete': 1, u'Silvia Fundire': 1, u'Nnoseng Ellen Serasengwe': 1, u'Nellie Mwanzia': 1, u'McAuliffe': 1, u'Woza Albert': 1, u'Judith Ngwenya': 1, u'Eugenie Cisse Roland Kouassi': 1, u'Josephine Effah-Chukwuma': 1, u'Stephen Segaller': 1, u'Michael Gelb': 1, u'Dey': 1, u'Johnnetta Betsch Cole': 1, u'Tawkaltu Yakub': 1, u'Carole Jackson': 1, u'Grace Mugabe': 1, u'Cipriani': 1, u'Marshall Eisen': 1, u'Mueller': 1, u'Patterson': 1, u'Goldman': 1, u'Julie Belafonte': 1, u'Nyerere': 1, u'JULIANNE MALVEAUX': 1, u'Emmanuel Osibuamhe': 1, u'Cheick Oumar Sissoko': 1, u'Nathaniel Hawthorne': 1, u'Ntuli': 1, u'Wajid': 1, u'Maryam': 1, u'Ruimiko Kaneko': 1, u'Anastasia': 1, u'Abraham': 1, u'John Colapinto': 1, u'Zack Mushawata': 1, u'Aloysia Inyumba': 1, u'Abubakar Shekau': 1, u'Patricia Schroeder': 1, u'Wangari Mathaai': 1, u'Fouzia': 1, u'Gnapa Beatrice Kombe': 1, u'Donald': 1, u'Martin Were': 1, u'Leah Muuya': 1, u'Tsegaye Mehirtu': 1, u'Yinka Shonibare': 1, u'Leakey': 1, u'Richard Otieno Kwach': 1, u'Rosa DeLauro': 1, u'Holton-Arms': 1, u'ADRIENNE GERMAIN President': 1, u'Danson': 1, u'Anna Lappe': 1, u'Boodle': 1, u'Deetlefs': 1, u'Safiya': 1, u'Regan': 1, u'Robert Baldridge': 1, u'Jan Willem Schulte Nordholt': 1, u'Joel Netshitenzhe': 1, u'Delilah Asiago': 1, u'Houleymata Diarra': 1, u'David Livingstone': 1, u'Hinda Hassan': 1, u'Tracee Ellis Ross': 1, u'Thomas Bennett': 1, u'Giuliano': 1, u'Oumar Namory Keita': 1, u'Moe': 1, u'Mariam Omar Hassan': 1, u'Robin Morgan': 1, u'Idrissou Abdel Razak': 1, u'Macharia Gaitho': 1, u'Michelle Bachelet': 1, u'Alima Asami': 1, u'Uamsho': 1, u'Muta': 1, u'Alfred Nzo': 1, u'Katrin Bennhold': 1, u'Sullivan': 1, u'Pierre Hospital': 1, u'Haki': 1, u'Mariama': 1, u'Jerome': 1, u'Daniel Patrick Moynihan': 1, u'Einhorn': 1, u'Zahra Mohammed Nur': 1, u'Acevedo': 1, u'Na\\xefma Sahmoud': 1, u'Liesl Gerntholtz': 1, u'Maryam Babangida': 1, u'Prince Charles': 1, u'Marthe Bleu': 1, u'Monekosso': 1, u'Jessica Posner': 1, u'Jaf Shah': 1, u'Pedro Cahn': 1, u'Yekeh Gayflor': 1, u'Miss Reagan': 1, u'Markus Goldstein': 1, u'McIntyre': 1, u'Marlin Fitzwater': 1, u'Ken Scott': 1, u'Yates': 1, u'TaJoe': 1, u'Hastings Kamuzu Banda': 1, u'Mashi': 1, u'Kenneh': 1, u'Maggie': 1, u'Mbhazima Shilowa': 1, u'Emma Mashinini': 1, u'Thomas Setondji Boya': 1, u'Robert Oakley': 1, u'Faith Chirwa': 1, u'Simone Cipriani': 1, u'David Burt': 1, u'Susan Rich': 1, u'Yvette Roudy': 1, u'Campaore': 1, u'Richard Acland': 1, u'Ayonga': 1, u'Sizakele Zuma': 1, u'Jeff Stryker': 1, u'Liz Abzug': 1, u'Buchi Emecheta Braziller': 1, u'Somali Bantu': 1, u'Thorbjorn Jagland': 1, u'Roselyn A. Odera': 1, u'Indira Gandhi': 1, u'Shohreh Moghimkhan': 1, u'Balikungeri': 1, u'TAMMY HORN Washington': 1, u'Batoure': 1, u'Esther Kiplagat': 1, u'Busisiwe Xaba': 1, u'Miss Ashford': 1, u'Prince Yormie Johnson': 1, u'Sarah Johnson': 1, u'Omary': 1, u'Leila I. Emara': 1, u'Katabira': 1, u'Helen Suzman': 1, u'Cecilia Lopez': 1, u'Maame Yaa Nimo Sarkodie': 1, u'Salimata Simpore': 1, u'Maureen Connell': 1, u'Wendy Lesko': 1, u'Billy Martin': 1, u'Rudolf Vigil': 1, u'Willie Mae Ford Smith': 1, u'Buganda': 1, u'Kwame Nkrumah': 1, u'Mira Fleming': 1, u'George Cuvier': 1, u'Kwame Anthony Appiah': 1, u'Bob Michel': 1, u'Nancy Barry': 1, u'Justin Rude': 1, u'Mavhinga': 1, u'Ergibe Boyd': 1, u'Lena Einhorn': 1, u'Randall Robinson': 1, u'Marla Runyan': 1, u'Emmanuel Nsabimana': 1, u'Vijay Pillai': 1, u'Donna Alvarado': 1, u'Becky': 1, u'Thami Ndlovu': 1, u'Frank Taplin': 1, u'Traore': 1, u'Miss Zerai': 1, u'Catharine MacKinnon': 1, u'Henry Boateng': 1, u'Mohammed Sayyid Tantawi': 1, u'Huxtable': 1, u'Direko': 1, u'Suzanne Leclerc-Madlala': 1, u'Kobie H. Coetsee': 1, u'Saida Mohammed Ali': 1, u'Constance D. Lehman': 1, u'John F. Kennedy': 1, u'Matsoso': 1, u'Eugenie Cisse Roland': 1, u'Ellen Johnson Sirleaf Harper': 1, u'Piet Badenhorst': 1, u\"Dominic O'Neill\": 1, u'Ashley Barr': 1, u'David Stephen': 1, u'Gloria': 1, u'Louis D. Rubin Jr.': 1, u'Gericke': 1, u'Keur Simbara': 1, u'Girar Jarso': 1, u'Ebrahim Fakir': 1, u'Mbusa': 1, u'Faduma': 1, u'Heywood': 1, u'St. Paul': 1, u'Dave Sirulnick': 1, u'JANE FONDA': 1, u'Chansa Kabwela': 1, u'Kathrada': 1, u'Tom Vraalsen': 1, u'Wilmette Brown': 1, u'Wilfrid Sheed': 1, u'Hodan': 1, u'Njoroge': 1, u'Eunice Brookman-Amissah': 1, u'Francis Insaidoo': 1, u'Glenn Hausfater': 1, u'Porter': 1, u'Christine Bako': 1, u'VIVIAN B. PENDER': 1, u'Hilary Swank': 1, u'Cuny': 1, u'Patricia deLille': 1, u'Suzanne Leclerc Madlala': 1, u'Mohammed Yusuf': 1, u'Nikkole': 1, u'Mmabatho Mqhayi': 1, u'Reginald': 1, u'Vaclav Havel': 1, u'Enoch Dumbutshena': 1, u'Nelson': 1, u'Salat': 1, u'Jerome Waterman': 1, u'Carrie': 1, u'June Goodwin': 1, u'Agberto Guimaraez': 1, u'Gelleh': 1, u'B.': 1, u'Martine Kuyo': 1, u'Nicholas Eberstadt': 1, u'William Repicci': 1, u'Donald) McCloskey': 1, u'Beckett': 1, u'Morris Dukuly': 1, u'Brian Larkin': 1, u'Malicounda Bambara': 1, u'Blu Greenberg': 1, u'Brigid Inder': 1, u'Ikol': 1, u'Sophie Nhokwara': 1, u'Praxede': 1, u'Udo Beyer': 1, u'Allen Herman': 1, u'Napoleon Bonaparte': 1, u'Eugene': 1, u'Nelson George': 1, u'Anna Wintour-inspired': 1, u'Pat Anthony': 1, u'Ibrahim Isaka': 1, u'Jeri Winger': 1, u\"Tip O'Neill\": 1, u'Shostakovich': 1, u'Dlamini': 1, u'Kwame Anyane-Yeboa': 1, u'Rudiger Nehberg': 1, u'Lee Westerberg': 1, u'Judy Goldsmith': 1, u'Yourcenar': 1, u'Meir Kahane': 1, u'Aziza': 1, u'Jonas Savimbi': 1, u'Wafaie Fawzi': 1, u'Diane Solomon': 1, u'M.C.': 1, u'Johnny': 1, u'Morton Sklar': 1, u'Massawe': 1, u'Carrie Francke': 1, u'Emilienne Mouassa': 1, u'Denis Beckett': 1, u'Seavers': 1, u'Carryer': 1, u'Constandt Viljoen': 1, u'Francois Dabis': 1, u'Sophie Okonedo': 1, u'Ngalo': 1, u'Howard Salter': 1, u'Abebe Bikila': 1, u'Zerai': 1, u'George Washington': 1, u'Marvel Abayomi-Cole': 1, u'Alabi': 1, u'A.J.C.': 1, u'Roble Olhaye': 1, u'Dunlop': 1, u'Odehouri Koudou': 1, u'Fatma Mint Mohamed': 1, u'Runyan': 1, u'Janelle Mon\\xe1e': 1, u'Lundestad': 1, u'E. L. Doctorow': 1, u'Bala': 1, u'Moammar Gaddafi': 1, u'Wanjara': 1, u'Lewis Wall': 1, u'Mangosuthu G. Buthelezi': 1, u'Geena Davis': 1, u'Maklehemena': 1, u'Moustapha Gueye': 1, u'Kibaki': 1, u'Vera Rota': 1, u'Snyder': 1, u'Alan Brody': 1, u'Louis Leakey': 1, u'Hutchinson': 1, u'Bernardin Rutazibwa': 1, u'Zara Esmail': 1, u'B. T. Whitehill': 1, u'Rutazibwa': 1, u'Okpodu': 1, u'Chipo Lungu': 1, u'Serena Williams': 1, u'Haidy': 1, u'Napoleon': 1, u'Gola': 1, u'Stephen S. Gloyd': 1, u'Levy Mwanawasa': 1, u'Diana': 1, u'Juma Ndiwa': 1, u'Johns Hopkins': 1, u'Haja-Mammud': 1, u'Maxine Cheshire': 1, u'Linda Thomas-Greenfield': 1, u'Felice Gaer': 1, u'Gini Reticker': 1, u'Adamu Adamu': 1, u'Chakufwa Chihana': 1, u'Eriya Jokasi': 1, u'Wabulasa': 1, u'Dlamini-Zuma': 1, u'Lydia Katuramu': 1, u'Jiang Qing': 1, u'Chota': 1, u'Wakabi': 1, u'Reuben Nakian': 1, u'Derek Keys': 1, u'Monica S. Lewinsky': 1, u'Thomas Swick': 1, u'Jim Wright': 1, u'Freida Pinto': 1, u'Iman': 1, u'Emmanuel Dormeyan': 1, u'Griswold': 1, u'Matereke': 1, u'Leon Deetlefs': 1, u'Sam Okpodu': 1, u'Vani': 1, u'Netsai Nhokwara': 1, u'Marie': 1, u'Kyle Stevenson': 1, u'Mahmoud Hamdi Saksuk': 1, u'Rosina Tucker': 1, u'William Boyd': 1, u'Molefi-Mochangana': 1, u'Yeri Wakabi': 1, u'John Richardson': 1, u'Alberto Salazar': 1, u'Peter Ogunjuyigbe': 1, u'Roger-Mark De Souza': 1, u'Jendayi E. Frazer': 1, u'Ferreira-Jorge': 1, u'Gnassingbe Eyadema': 1, u'Peter Mbugua': 1, u'Audrey Rangel': 1, u'Rakiya Omaar': 1, u'John Naisbitt': 1, u'Chambers': 1, u'Hodan Adan': 1, u'John Convertino': 1})"
      ]
     },
     "execution_count": 17,
     "metadata": {},
     "output_type": "execute_result"
    }
   ],
   "source": [
    "africa['person']"
   ]
  },
  {
   "cell_type": "code",
   "execution_count": 18,
   "metadata": {
    "collapsed": false
   },
   "outputs": [],
   "source": [
    "import pprint, pickle"
   ]
  },
  {
   "cell_type": "code",
   "execution_count": 19,
   "metadata": {
    "collapsed": false
   },
   "outputs": [],
   "source": [
    "def ld_writeDicts(filePath,dict):  \n",
    "    f=open(filePath,'w')  \n",
    "    newData = pickle.dumps(dict, 1)  \n",
    "    f.write(newData)  \n",
    "    f.close()"
   ]
  },
  {
   "cell_type": "code",
   "execution_count": 20,
   "metadata": {
    "collapsed": false
   },
   "outputs": [],
   "source": [
    "ld_writeDicts('asia',asia)  \n",
    "ld_writeDicts('africa',africa) \n",
    "ld_writeDicts('west',west) \n",
    "ld_writeDicts('la',la) \n",
    "ld_writeDicts('eeca',eeca) \n",
    "ld_writeDicts('mena',mena)"
   ]
  },
  {
   "cell_type": "markdown",
   "metadata": {},
   "source": [
    "## Calculate Sentiments"
   ]
  },
  {
   "cell_type": "code",
   "execution_count": 15,
   "metadata": {
    "collapsed": false
   },
   "outputs": [],
   "source": [
    "from nltk import word_tokenize\n",
    "from nltk import bigrams\n",
    "from nltk import trigrams\n",
    "from nltk import ngrams\n",
    "from nltk.stem import PorterStemmer\n",
    "import nltk"
   ]
  },
  {
   "cell_type": "code",
   "execution_count": 16,
   "metadata": {
    "collapsed": false
   },
   "outputs": [],
   "source": [
    "pt = PorterStemmer()\n",
    "\n",
    "stop_words = urlopen('http://jmlr.org/papers/volume5/lewis04a/a11-smart-stop-list/english.stop').read().split('\\n')\n",
    "pos_words = urlopen('http://www.unc.edu/~ncaren/haphazard/positive.txt').read().split('\\n')\n",
    "neg_words = urlopen('http://www.unc.edu/~ncaren/haphazard/negative.txt').read().split('\\n')\n",
    "\n",
    "pos_stem_pt = map(pt.stem, pos_words)\n",
    "neg_stem_pt = map(pt.stem, neg_words)"
   ]
  },
  {
   "cell_type": "code",
   "execution_count": 20,
   "metadata": {
    "collapsed": false
   },
   "outputs": [],
   "source": [
    "# preprocessing and calculate sentiments \n",
    "\n",
    "for article in women:\n",
    "    \n",
    "    i = article['TEXT-NO-NOUN']\n",
    "    \n",
    "    # processing\n",
    "    i = re.sub('\\W', ' ', i) # remove punctuation\n",
    "    i = i.lower() # remove capitalization\n",
    "    i = word_tokenize(i) # tokenize the words\n",
    "    i = [x for x in i if x not in stop_words] # remove stop words\n",
    "    i = map(pt.stem, i)\n",
    "    \n",
    "    article['text-stemmed'] = i\n",
    "    \n",
    "    # counting\n",
    "    i_pt = map(pt.stem, i)\n",
    "    article['number of porter stemmed positive words'] = len([x for x in i_pt if x in pos_stem_pt])\n",
    "    article['number of porter stemmed negative words'] = len([x for x in i_pt if x in neg_stem_pt])\n",
    "    article['number of non-stop words'] = len(i) # Number of non-stop words spoken"
   ]
  },
  {
   "cell_type": "markdown",
   "metadata": {},
   "source": [
    "## Write File"
   ]
  },
  {
   "cell_type": "code",
   "execution_count": 21,
   "metadata": {
    "collapsed": false
   },
   "outputs": [
    {
     "data": {
      "text/plain": [
       "['PUBLICATION',\n",
       " 'TITLE',\n",
       " 'COUNTRY',\n",
       " 'number of porter stemmed positive words',\n",
       " 'DATE',\n",
       " 'BYLINE',\n",
       " 'entities',\n",
       " 'COUNTRY_CODE',\n",
       " 'TEXT',\n",
       " 'COUNTRY_FINAL',\n",
       " 'number of non-stop words',\n",
       " 'YEAR',\n",
       " 'COUNTRY_MAJOR',\n",
       " 'TEXT-NO-NOUN',\n",
       " 'REGION',\n",
       " 'COUNTRY_NR',\n",
       " 'text-stemmed',\n",
       " 'number of porter stemmed negative words',\n",
       " 'LENGTH',\n",
       " 'COUNTRY_TOP_PERCENT',\n",
       " 'TYPE',\n",
       " 'SUBJECT']"
      ]
     },
     "execution_count": 21,
     "metadata": {},
     "output_type": "execute_result"
    }
   ],
   "source": [
    "keys = women[1].keys()\n",
    "keys"
   ]
  },
  {
   "cell_type": "code",
   "execution_count": 22,
   "metadata": {
    "collapsed": false
   },
   "outputs": [],
   "source": [
    "with open('Data/Corpora/women-processed.csv', 'wb') as output_file:\n",
    "    dict_writer = csv.DictWriter(output_file, keys)\n",
    "    dict_writer.writeheader()\n",
    "    dict_writer.writerows(women)"
   ]
  },
  {
   "cell_type": "markdown",
   "metadata": {},
   "source": [
    "## Calculate DTM"
   ]
  },
  {
   "cell_type": "code",
   "execution_count": 15,
   "metadata": {
    "collapsed": false
   },
   "outputs": [
    {
     "data": {
      "text/plain": [
       "32493"
      ]
     },
     "execution_count": 15,
     "metadata": {},
     "output_type": "execute_result"
    }
   ],
   "source": [
    "# count number of unigrams\n",
    "unigrams = {}\n",
    "used = []\n",
    "\n",
    "for article in women:\n",
    "    for word in article['text-stemmed']:\n",
    "        if word in unigrams:\n",
    "                unigrams[word] += 1 \n",
    "        if word not in unigrams and word not in used:\n",
    "                unigrams[word] = 1 # add the word to unigrams for the first time\n",
    "                used.append(word) # add the word to used, which is just a list of the words used\n",
    "len(set(unigrams)) # the number of the unique unigrams"
   ]
  },
  {
   "cell_type": "code",
   "execution_count": 16,
   "metadata": {
    "collapsed": false
   },
   "outputs": [],
   "source": [
    "from heapq import nlargest\n",
    "import operator"
   ]
  },
  {
   "cell_type": "code",
   "execution_count": 17,
   "metadata": {
    "collapsed": false
   },
   "outputs": [],
   "source": [
    "top_uni_nu = nlargest(10000, unigrams.iteritems(), key=operator.itemgetter(1))\n",
    "top_uni = [x[0] for x in top_uni_nu]"
   ]
  },
  {
   "cell_type": "code",
   "execution_count": 18,
   "metadata": {
    "collapsed": false
   },
   "outputs": [
    {
     "data": {
      "text/plain": [
       "[('prudent', 8),\n",
       " ('cock', 8),\n",
       " ('ruth', 8),\n",
       " ('unaffect', 8),\n",
       " ('unquest', 8),\n",
       " ('sanitarium', 8),\n",
       " ('dam', 8),\n",
       " ('texa', 8),\n",
       " ('concili', 8)]"
      ]
     },
     "execution_count": 18,
     "metadata": {},
     "output_type": "execute_result"
    }
   ],
   "source": [
    "top_uni_nu[-10:-1] # what are the bottom 10 unigrams?"
   ]
  },
  {
   "cell_type": "code",
   "execution_count": 19,
   "metadata": {
    "collapsed": false
   },
   "outputs": [],
   "source": [
    "# create lists of counts of unigrams per document\n",
    "uni_dtm = []\n",
    "for article in women:\n",
    "    pub = article['PUBLICATION']\n",
    "    vec = [pub + '-' + article['REGION'] + str(article['YEAR']) + '-' + str(women.index(article)),]\n",
    "    # make a list of unigrams in that statement and count them\n",
    "    for i in top_uni:\n",
    "        count = article['text-stemmed'].count(i)\n",
    "        vec.append(count)\n",
    "    uni_dtm.append(vec)   "
   ]
  },
  {
   "cell_type": "code",
   "execution_count": 20,
   "metadata": {
    "collapsed": false
   },
   "outputs": [
    {
     "data": {
      "text/plain": [
       "['WP-West2006-4000', 6, 3, 0, 6, 9, 3, 1, 0, 0]"
      ]
     },
     "execution_count": 20,
     "metadata": {},
     "output_type": "execute_result"
    }
   ],
   "source": [
    "uni_dtm[4000][:10]"
   ]
  },
  {
   "cell_type": "code",
   "execution_count": 21,
   "metadata": {
    "collapsed": false
   },
   "outputs": [],
   "source": [
    "dtm = open('Data/dtm-python.csv', 'w')\n",
    "row = 'region'\n",
    "for i in top_uni:\n",
    "    row = row + ',' + i\n",
    "dtm.write(row + '\\n')"
   ]
  },
  {
   "cell_type": "code",
   "execution_count": 22,
   "metadata": {
    "collapsed": false
   },
   "outputs": [],
   "source": [
    "# write rows\n",
    "\n",
    "for i in range(len(uni_dtm)):\n",
    "    x = str(uni_dtm[i])\n",
    "    x = x.replace('[','')\n",
    "    x = x.replace(']','')\n",
    "    dtm.write(x + '\\n')"
   ]
  },
  {
   "cell_type": "code",
   "execution_count": 23,
   "metadata": {
    "collapsed": false
   },
   "outputs": [],
   "source": [
    "dtm.close()"
   ]
  },
  {
   "cell_type": "code",
   "execution_count": 28,
   "metadata": {
    "collapsed": false
   },
   "outputs": [],
   "source": []
  },
  {
   "cell_type": "code",
   "execution_count": null,
   "metadata": {
    "collapsed": false
   },
   "outputs": [],
   "source": []
  }
 ],
 "metadata": {
  "kernelspec": {
   "display_name": "Python 2",
   "language": "python",
   "name": "python2"
  },
  "language_info": {
   "codemirror_mode": {
    "name": "ipython",
    "version": 2
   },
   "file_extension": ".py",
   "mimetype": "text/x-python",
   "name": "python",
   "nbconvert_exporter": "python",
   "pygments_lexer": "ipython2",
   "version": "2.7.9"
  }
 },
 "nbformat": 4,
 "nbformat_minor": 0
}
