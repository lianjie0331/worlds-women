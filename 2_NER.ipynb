{
 "cells": [
  {
   "cell_type": "markdown",
   "metadata": {},
   "source": [
    "## About\n",
    "\n",
    "This script uses stanford named entity recognizer to find the proper names in my women article corpus and exports a new csv column with the article text without proper nouns. At the end, it also tries to do a little analysis with those named entites."
   ]
  },
  {
   "cell_type": "markdown",
   "metadata": {},
   "source": [
    "## NER"
   ]
  },
  {
   "cell_type": "code",
   "execution_count": 11,
   "metadata": {
    "collapsed": false
   },
   "outputs": [],
   "source": [
    "import ner\n",
    "import os\n",
    "import re\n",
    "import csv\n",
    "from urllib import urlopen"
   ]
  },
  {
   "cell_type": "code",
   "execution_count": 12,
   "metadata": {
    "collapsed": false
   },
   "outputs": [
    {
     "data": {
      "text/plain": [
       "9223372036854775807"
      ]
     },
     "execution_count": 12,
     "metadata": {},
     "output_type": "execute_result"
    }
   ],
   "source": [
    "import sys\n",
    "\n",
    "csv.field_size_limit(sys.maxsize)\n",
    " "
   ]
  },
  {
   "cell_type": "code",
   "execution_count": 13,
   "metadata": {
    "collapsed": false
   },
   "outputs": [],
   "source": [
    "tagger = ner.SocketNER(host='localhost', port=8080)"
   ]
  },
  {
   "cell_type": "code",
   "execution_count": 14,
   "metadata": {
    "collapsed": false
   },
   "outputs": [
    {
     "data": {
      "text/plain": [
       "{u'LOCATION': [u'Rumania', u'Rumania', u'Rumania'],\n",
       " u'ORGANIZATION': [u'Murray Stopes International'],\n",
       " u'PERSON': [u'Nicolae Ceausescu', u'Ceausescu']}"
      ]
     },
     "execution_count": 14,
     "metadata": {},
     "output_type": "execute_result"
    }
   ],
   "source": [
    "# test\n",
    "entities = tagger.get_entities(\"The dictatorship of President Nicolae Ceausescu caused extreme hardships \\\n",
    "                                for all but a few hundred thousand of Rumania's 23 million citizens. \\\n",
    "                                But in the case of mothers and babies, his rule apparently had the most \\\n",
    "                                tragic consequences. Mr. Ceausescu, who was ousted in a popular uprising a \\\n",
    "                                month ago, decreed in 1967, two years after he came to power, that Rumania's \\\n",
    "                                population, then about 22 million, should increase to 30 million. The reason he \\\n",
    "                                gave was simply that he wanted a bigger Rumania - an assertion widely interpreted \\\n",
    "                                now as an early indication of his megalomania. And to achieve his goal he banned \\\n",
    "                                abortions, made contraception illegal and ordered that Rumanian women of \\\n",
    "                                child-bearing age have five children each. No Precise Accounting Harsh fines were \\\n",
    "                                ordered for women caught having abortions, and doctors or medical technicians who \\\n",
    "                                a consultant for Murray Stopes International, a British charity that assi\")\n",
    "entities"
   ]
  },
  {
   "cell_type": "code",
   "execution_count": 15,
   "metadata": {
    "collapsed": false
   },
   "outputs": [
    {
     "data": {
      "text/plain": [
       "{u'LOCATION': {u'Rumania'},\n",
       " u'ORGANIZATION': {u'Murray Stopes International'},\n",
       " u'PERSON': {u'Ceausescu', u'Nicolae Ceausescu'}}"
      ]
     },
     "execution_count": 15,
     "metadata": {},
     "output_type": "execute_result"
    }
   ],
   "source": [
    "for key in entities:\n",
    "    entities[key] = set(entities[key])\n",
    "entities"
   ]
  },
  {
   "cell_type": "code",
   "execution_count": 16,
   "metadata": {
    "collapsed": false
   },
   "outputs": [
    {
     "data": {
      "text/plain": [
       "{'BYLINE': 'By DAVID BINDER, Special to The New York Times',\n",
       " 'COUNTRY': 'ROMANIA\\xc2\\xa0(96%);',\n",
       " 'COUNTRY_CODE': 'ROU',\n",
       " 'COUNTRY_FINAL': 'Romania',\n",
       " 'COUNTRY_MAJOR': 'ROMANIA',\n",
       " 'COUNTRY_NR': 'ROMANIA\\xc2\\xa0(96%)',\n",
       " 'COUNTRY_TOP_PERCENT': 'ROMANIA\\xc2\\xa0(96%)',\n",
       " 'DATE': 'January 24, 1990',\n",
       " 'LENGTH': '936 words',\n",
       " 'PUBLICATION': 'NYT',\n",
       " 'REGION': 'EECA',\n",
       " 'SUBJECT': \"ABORTION; BIRTH CONTROL AND FAMILY PLANNING; POPULATION; CHILDREN AND YOUTH; WOMEN; POLITICS AND GOVERNMENT \\xc2\\xa0PREGNANCY & CHILDBIRTH\\xc2\\xa0(90%);\\xc2\\xa0INFANTS & TODDLERS\\xc2\\xa0(90%);\\xc2\\xa0HEADS OF STATE & GOVERNMENT\\xc2\\xa0(90%);\\xc2\\xa0ABORTION\\xc2\\xa0(90%);\\xc2\\xa0WOMEN\\xc2\\xa0(90%); CHILDREN\\xc2\\xa0(89%);\\xc2\\xa0ORPHANS\\xc2\\xa0(89%);\\xc2\\xa0JAIL SENTENCING\\xc2\\xa0(88%);\\xc2\\xa0PARENTING\\xc2\\xa0(78%);\\xc2\\xa0WOMEN'S HEALTH\\xc2\\xa0(78%);\\xc2\\xa0POPULATION SIZE\\xc2\\xa0(78%);\\xc2\\xa0CONTRACEPTION\\xc2\\xa0(74%);\\xc2\\xa0LAW ENFORCEMENT\\xc2\\xa0(74%);\",\n",
       " 'TEXT': \"The dictatorship of President Nicolae Ceausescu caused extreme hardships for all but a few hundred thousand of Rumania's 23 million citizens. But in the case of mothers and babies, his rule apparently had the most tragic consequences. Mr. Ceausescu, who was ousted in a popular uprising a month ago, decreed in 1967, two years after he came to power, that Rumania's population, then about 22 million, should increase to 30 million. The reason he gave was simply that he wanted a bigger Rumania - an assertion widely interpreted now as an early indication of his megalomania. And to achieve his goal he banned abortions, made contraception illegal and ordered that Rumanian women of child-bearing age have five children each. No Precise Accounting Harsh fines were ordered for women caught having abortions, and doctors or medical technicians who assisted in abortions were sentenced to up to four years in prison and prohibited from practicing for 10 years. In the latter years of the regime, women working in factories were subjected to pregnancy checks as often as once a week. There is as yet no precise accounting of how many Rumanians were adversely affected by such strictures. Officials of the new provisional Government and outside experts have only begun to gather data about what happened over the years. But the fragmentary figures and educated guesses that they have been able to provide depict a society of families torn by death and fear as a result of the decrees paradoxically meant to make them propagate. ''The policy was a total failure,'' said Dr. Timothy Rutter, a consultant for Murray Stopes International, a British charity that assists planned parenthood projects. Dr. Rutter spent the last week in Bucharest. In talks with officials at the new Government's Ministry of Health, Dr. Rutter was told that while the Rumanian population rate grew by 2.5 percent in 1966, in 1989 there was actually a negative growth rate. Rumanian officials said there were 300,000 births last year and 1.2 million abortions. Jail for Performing Abortions In Iasi, a city of 400,000 people in northern Rumania, physicians told a visitor that three Iasi University medical professors were jailed for one year each under the dictatorship for performing abortions. ''We have many maternal deaths and very many abandoned children'' as a result of the abortion policy, a physician said, adding that in Iasi, medical instruments that might be used in abortions were kept locked up and could be taken out only under the supervision of a state security police officer. Every Rumanian seems to know cases of mothers dying during botched abortions, children orphaned as a result of such deaths and babies harmed by unsuccessful attempts at abortion. Officials said there are 718 orphans up to the age of 3 in Bucharest, many in pitiable condition. The officials said that the children were orphaned as a result of the Ceausescu policies and that there would be more had the regime not sold Rumanian orphans to France for hard currency. Presumably the orphans were from families broken after the mothers had died during abortions or during unhealthy pregnancies. Death of a Wife In an interview, Ion Tudor, a 46-year-old museum worker, told of his family with tears in his eyes. In February 1975, he came home from a work assignment in another city to find his 26-year-old wife, Florica, in a state of collapse. ''She had gotten an abortion from a medical technician,'' he said, adding that he had no knowledge of her plans. ''I called an ambulance. It took 12 hours for the ambulance to arrive. We went to the Giulesti Maternity Hospital. They called the police, who said she could not receive treatment until she confessed who had performed the abortion. She received no care for two days. Then she had a kidney collapse.  ''The doctors sneaked her over to the Emergency Hospital, where the doctors treated her. The doctor there told me if she was strong she had a chance to live. She died 18 days later.'' She left Mr. Tudor with three sons, ages 2, 4 and 5. Mihai Orovanu, a Bucharest photographer, told of visiting an archeological site at Pacuiul Lui Soare, near the Danube, last November and finding a Bucharest physician living in a cave. He had been jailed and then barred from practice for 10 years because he had performed abortions. ''He was living off vegetables he stole from the fields and fish he caught in the river,'' Mr. Orovanu said. 'There Was No Milk' The babies who were born faced severe hardships. Christian Modolciu, a 39-year-old foreign trade specialist who has two children, said he and his wife decided not to have any more. ''We wanted a third child, but there was no milk to be had,'' he said. During the Ceausescu regime, interuterine devices and condoms were traded on the black market, with American-made I.U.D.'s selling for more than $100 apiece. But such devices were scarce. In Bucharest there are 20,000 women in hospitals being treated for abortion complications, Dr. Rutter said, quoting the Rumanian health officials. He said an additional 10,000 Bucharest women are waiting for places in hospitals for treatment of blocked fallopian tubes caused by mishandled abortions. Abortions are being performed at a rate of 60 a day at one Bucharest hospital alone. Condoms are now becoming available in the capital's pharmacies. The first legal decree of the Council of National Salvation, which took power after the fall of Mr. Ceausescus, dissolved the state security police. The second decree was to end the Ceausescu policy banning abortions.\",\n",
       " 'TITLE': 'Upheaval in the East; Where Fear and Death Went Forth and Multiplied',\n",
       " 'TYPE': '',\n",
       " 'UID': '15',\n",
       " 'YEAR': '1990'}"
      ]
     },
     "execution_count": 16,
     "metadata": {},
     "output_type": "execute_result"
    }
   ],
   "source": [
    "#read csv and read into a list of dictionaries\n",
    "women = []\n",
    "with open('Data/Corpora/women-foreign.csv') as csvfile:\n",
    "    reader = csv.DictReader(csvfile)\n",
    "    for row in reader:\n",
    "        women.append(row)\n",
    "women[1]"
   ]
  },
  {
   "cell_type": "code",
   "execution_count": 17,
   "metadata": {
    "collapsed": false
   },
   "outputs": [],
   "source": [
    "# remove named entities\n",
    "for article in women:\n",
    "    entities = tagger.get_entities(article['TEXT'])\n",
    "    for key in entities:\n",
    "        entities[key] = set(entities[key])\n",
    "    article['entities'] = entities\n",
    "    entities = [item for sublist in entities.values() for item in sublist]\n",
    "    text = article['TEXT']\n",
    "    for noun in entities:\n",
    "        text = text.replace(noun.encode('utf-8'),'')\n",
    "    article['TEXT-NO-NOUN'] = text"
   ]
  },
  {
   "cell_type": "markdown",
   "metadata": {},
   "source": [
    "## Write File"
   ]
  },
  {
   "cell_type": "code",
   "execution_count": 18,
   "metadata": {
    "collapsed": false
   },
   "outputs": [
    {
     "data": {
      "text/plain": [
       "['BYLINE',\n",
       " 'TEXT-NO-NOUN',\n",
       " 'PUBLICATION',\n",
       " 'TITLE',\n",
       " 'COUNTRY',\n",
       " 'COUNTRY_FINAL',\n",
       " 'YEAR',\n",
       " 'UID',\n",
       " 'COUNTRY_NR',\n",
       " 'entities',\n",
       " 'LENGTH',\n",
       " 'COUNTRY_TOP_PERCENT',\n",
       " 'COUNTRY_CODE',\n",
       " 'TEXT',\n",
       " 'DATE',\n",
       " 'COUNTRY_MAJOR',\n",
       " 'TYPE',\n",
       " 'REGION',\n",
       " 'SUBJECT']"
      ]
     },
     "execution_count": 18,
     "metadata": {},
     "output_type": "execute_result"
    }
   ],
   "source": [
    "keys = women[1].keys()\n",
    "keys"
   ]
  },
  {
   "cell_type": "code",
   "execution_count": 19,
   "metadata": {
    "collapsed": false
   },
   "outputs": [],
   "source": [
    "with open('Data/Corpora/women-processed.csv', 'wb') as output_file:\n",
    "    dict_writer = csv.DictWriter(output_file, keys)\n",
    "    dict_writer.writeheader()\n",
    "    dict_writer.writerows(women)"
   ]
  },
  {
   "cell_type": "code",
   "execution_count": null,
   "metadata": {
    "collapsed": true
   },
   "outputs": [],
   "source": []
  }
 ],
 "metadata": {
  "kernelspec": {
   "display_name": "Python 2",
   "language": "python",
   "name": "python2"
  },
  "language_info": {
   "codemirror_mode": {
    "name": "ipython",
    "version": 2
   },
   "file_extension": ".py",
   "mimetype": "text/x-python",
   "name": "python",
   "nbconvert_exporter": "python",
   "pygments_lexer": "ipython2",
   "version": "2.7.9"
  }
 },
 "nbformat": 4,
 "nbformat_minor": 0
}
