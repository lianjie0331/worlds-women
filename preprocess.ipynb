{
 "metadata": {
  "name": "",
  "signature": "sha256:c63adf8b52a230811df9fe73603b13d0fd373c669ecdd698c46dd45857bce4d1"
 },
 "nbformat": 3,
 "nbformat_minor": 0,
 "worksheets": [
  {
   "cells": [
    {
     "cell_type": "markdown",
     "metadata": {},
     "source": [
      "## About\n",
      "\n",
      "This script:\n",
      "1. uses stanford named entity recognizer to find the proper names in my women article corpus and exports a new csv column with the article text without proper nouns.\n",
      "2. pre-processes text \n",
      "3. Calculates sentiments\n",
      "4. creates a DTM"
     ]
    },
    {
     "cell_type": "markdown",
     "metadata": {},
     "source": [
      "## NER"
     ]
    },
    {
     "cell_type": "code",
     "collapsed": false,
     "input": [
      "import ner\n",
      "import os\n",
      "import re\n",
      "import csv\n",
      "from urllib import urlopen"
     ],
     "language": "python",
     "metadata": {},
     "outputs": [],
     "prompt_number": 7
    },
    {
     "cell_type": "code",
     "collapsed": false,
     "input": [
      "import sys\n",
      "import csv\n",
      "\n",
      "csv.field_size_limit(sys.maxsize)\n",
      " "
     ],
     "language": "python",
     "metadata": {},
     "outputs": [
      {
       "metadata": {},
       "output_type": "pyout",
       "prompt_number": 8,
       "text": [
        "9223372036854775807"
       ]
      }
     ],
     "prompt_number": 8
    },
    {
     "cell_type": "code",
     "collapsed": false,
     "input": [
      "tagger = ner.SocketNER(host='localhost', port=8080)"
     ],
     "language": "python",
     "metadata": {},
     "outputs": [],
     "prompt_number": 9
    },
    {
     "cell_type": "code",
     "collapsed": false,
     "input": [
      "# test\n",
      "tagger.get_entities(\"Rochelle Terman\")"
     ],
     "language": "python",
     "metadata": {},
     "outputs": [
      {
       "metadata": {},
       "output_type": "pyout",
       "prompt_number": 10,
       "text": [
        "{u'PERSON': [u'Rochelle Terman']}"
       ]
      }
     ],
     "prompt_number": 10
    },
    {
     "cell_type": "code",
     "collapsed": false,
     "input": [
      "#read csv and read into a list of dictionaries\n",
      "women = []\n",
      "with open('Data/women-foreign.csv') as csvfile:\n",
      "    reader = csv.DictReader(csvfile)\n",
      "    for row in reader:\n",
      "        women.append(row)\n",
      "women[1]"
     ],
     "language": "python",
     "metadata": {},
     "outputs": [
      {
       "metadata": {},
       "output_type": "pyout",
       "prompt_number": 11,
       "text": [
        "{'': '13',\n",
        " 'BYLINE': 'By JOAN COOK',\n",
        " 'COUNTRY': 'UNITED STATES\\xc2\\xa0(92%);\\xc2\\xa0DENMARK\\xc2\\xa0(79%);',\n",
        " 'COUNTRY_CODE': 'IND',\n",
        " 'COUNTRY_FINAL': 'India',\n",
        " 'COUNTRY_PERCENT_ST': 'United States of America',\n",
        " 'COUNTRY_TITLE': 'India',\n",
        " 'COUNTRY_TOP_PERCENT': 'UNITED STATES\\xc2\\xa0(92%)',\n",
        " 'DATE': 'January 17, 1990',\n",
        " 'LENGTH': '404 words',\n",
        " 'PUBLICATION': 'NYT',\n",
        " 'REGION': 'Asia',\n",
        " 'TEXT': \"India Edwards, former vice chairwoman of the Democratic National Committee, who worked to advance the role of women in politics, died Sunday at Fircrest Convalescent Hospital in Sebastopol, Calif. She was 94 years old and lived in Greenbrea, Calif. Mrs. Edwards was unanimously elected to the national committee in 1950. She was first associated with the committee as a volunteer in the 1944 Presidential campaign. From 1945 to 1947 she was executive secretary of the women's division, which she served as associate director before becoming the committee's vice chairwoman. Mrs. Edwards remained active in the Democratic Party for more than 30 years, through several generations of Democratic politicians, including Presidents Harry S. Truman, John F. Kennedy and Lyndon B. Johnson. For 22 years before she became active in politics she was on the staff of The Chicago Tribune, where she was society editor and woman's editor. She left the paper to marry her third husband, Herbert T. Edwards, a State Department official, and moved to Washington in 1942. Mr. Edwards died in the late 1970's. Campaigning With Truman Mrs. Edwards accompanied Mr. Truman, her political hero, on his 1948 campaign tour, where she repeatedly expressed her confidence in his victory at the polls. At one point the President turned to her and sighed. ''India,'' he said, ''sometimes I think there are only two people who believe I will win. You and me.'' ''That's enough,'' she replied. Largely because of Mrs. Edwards's influence, Mr. Truman appointed more women to top jobs than any preceding President. Among them were Eugenia Anderson as Ambassador to Denmark, Perle Mesta as Minister to Luxembourg, Ruth Bryan Rohde as an alternate delegate to the United Nations and Georgia Neese Clark as Treasurer of the United States. Explaining how she worked to increase the number of women in Federal jobs, Mrs. Edwards recalled: ''Sometimes I felt like a ghoul. I'd read the obits, and as soon as a man had died, I'd rush over to the White House and suggest a woman to replace him.'' Mrs. Edwards, who was named for her mother and her grandmother, was born in Chicago and grew up in Nashville. Her memoirs, ''Pulling No Punches,'' were published by G. P. Putnam's in 1977. Mrs. Edward's daughter, India Moffett Williams, died in 1979, and her son, John Holbrook Moffett, died in World War II. She is survived by five grandchildren.\",\n",
        " 'TITLE': 'India Edwards Dies; Advocate of Women In Politics Was 94',\n",
        " 'TYPE': 'Obituary',\n",
        " 'YEAR': '1990'}"
       ]
      }
     ],
     "prompt_number": 11
    },
    {
     "cell_type": "code",
     "collapsed": false,
     "input": [
      "for article in women:\n",
      "    entities = tagger.get_entities(article['TEXT'])\n",
      "    entities = [item for sublist in entities.values() for item in sublist]\n",
      "    text = article['TEXT']\n",
      "    for noun in entities:\n",
      "        text = text.replace(noun.encode('utf-8'),'')\n",
      "    article['TEXT-NO-NOUN'] = text"
     ],
     "language": "python",
     "metadata": {},
     "outputs": [],
     "prompt_number": 12
    },
    {
     "cell_type": "code",
     "collapsed": false,
     "input": [
      "women[1]"
     ],
     "language": "python",
     "metadata": {},
     "outputs": [
      {
       "metadata": {},
       "output_type": "pyout",
       "prompt_number": 13,
       "text": [
        "{'': '13',\n",
        " 'BYLINE': 'By JOAN COOK',\n",
        " 'COUNTRY': 'UNITED STATES\\xc2\\xa0(92%);\\xc2\\xa0DENMARK\\xc2\\xa0(79%);',\n",
        " 'COUNTRY_CODE': 'IND',\n",
        " 'COUNTRY_FINAL': 'India',\n",
        " 'COUNTRY_PERCENT_ST': 'United States of America',\n",
        " 'COUNTRY_TITLE': 'India',\n",
        " 'COUNTRY_TOP_PERCENT': 'UNITED STATES\\xc2\\xa0(92%)',\n",
        " 'DATE': 'January 17, 1990',\n",
        " 'LENGTH': '404 words',\n",
        " 'PUBLICATION': 'NYT',\n",
        " 'REGION': 'Asia',\n",
        " 'TEXT': \"India Edwards, former vice chairwoman of the Democratic National Committee, who worked to advance the role of women in politics, died Sunday at Fircrest Convalescent Hospital in Sebastopol, Calif. She was 94 years old and lived in Greenbrea, Calif. Mrs. Edwards was unanimously elected to the national committee in 1950. She was first associated with the committee as a volunteer in the 1944 Presidential campaign. From 1945 to 1947 she was executive secretary of the women's division, which she served as associate director before becoming the committee's vice chairwoman. Mrs. Edwards remained active in the Democratic Party for more than 30 years, through several generations of Democratic politicians, including Presidents Harry S. Truman, John F. Kennedy and Lyndon B. Johnson. For 22 years before she became active in politics she was on the staff of The Chicago Tribune, where she was society editor and woman's editor. She left the paper to marry her third husband, Herbert T. Edwards, a State Department official, and moved to Washington in 1942. Mr. Edwards died in the late 1970's. Campaigning With Truman Mrs. Edwards accompanied Mr. Truman, her political hero, on his 1948 campaign tour, where she repeatedly expressed her confidence in his victory at the polls. At one point the President turned to her and sighed. ''India,'' he said, ''sometimes I think there are only two people who believe I will win. You and me.'' ''That's enough,'' she replied. Largely because of Mrs. Edwards's influence, Mr. Truman appointed more women to top jobs than any preceding President. Among them were Eugenia Anderson as Ambassador to Denmark, Perle Mesta as Minister to Luxembourg, Ruth Bryan Rohde as an alternate delegate to the United Nations and Georgia Neese Clark as Treasurer of the United States. Explaining how she worked to increase the number of women in Federal jobs, Mrs. Edwards recalled: ''Sometimes I felt like a ghoul. I'd read the obits, and as soon as a man had died, I'd rush over to the White House and suggest a woman to replace him.'' Mrs. Edwards, who was named for her mother and her grandmother, was born in Chicago and grew up in Nashville. Her memoirs, ''Pulling No Punches,'' were published by G. P. Putnam's in 1977. Mrs. Edward's daughter, India Moffett Williams, died in 1979, and her son, John Holbrook Moffett, died in World War II. She is survived by five grandchildren.\",\n",
        " 'TEXT-NO-NOUN': \" , former vice chairwoman of the , who worked to advance the role of women in politics, died Sunday at  in , . She was 94 years old and lived in , . Mrs.  was unanimously elected to the national committee in 1950. She was first associated with the committee as a volunteer in the 1944 Presidential campaign. From 1945 to 1947 she was executive secretary of the women's division, which she served as associate director before becoming the committee's vice chairwoman. Mrs.  remained active in the  for more than 30 years, through several generations of Democratic politicians, including Presidents ,  and . For 22 years before she became active in politics she was on the staff of , where she was society editor and woman's editor. She left the paper to marry her third husband, Herbert T. , a  official, and moved to  in 1942. Mr.  died in the late 1970's. Campaigning With  Mrs.  accompanied Mr. , her political hero, on his 1948 campaign tour, where she repeatedly expressed her confidence in his victory at the polls. At one point the President turned to her and sighed. '','' he said, ''sometimes I think there are only two people who believe I will win. You and me.'' ''That's enough,'' she replied. Largely because of Mrs. 's influence, Mr.  appointed more women to top jobs than any preceding President. Among them were  as Ambassador to ,  as Minister to ,  as an alternate delegate to the  and  as Treasurer of the . Explaining how she worked to increase the number of women in Federal jobs, Mrs.  recalled: ''Sometimes I felt like a ghoul. I'd read the obits, and as soon as a man had died, I'd rush over to the  and suggest a woman to replace him.'' Mrs. , who was named for her mother and her grandmother, was born in  and grew up in . Her memoirs, ''Pulling No Punches,'' were published by 's in 1977. Mrs. 's daughter,  Moffett Williams, died in 1979, and her son, , died in World War II. She is survived by five grandchildren.\",\n",
        " 'TITLE': 'India Edwards Dies; Advocate of Women In Politics Was 94',\n",
        " 'TYPE': 'Obituary',\n",
        " 'YEAR': '1990'}"
       ]
      }
     ],
     "prompt_number": 13
    },
    {
     "cell_type": "markdown",
     "metadata": {},
     "source": [
      "## Calculate Sentiments"
     ]
    },
    {
     "cell_type": "code",
     "collapsed": false,
     "input": [
      "from nltk import word_tokenize\n",
      "from nltk import bigrams\n",
      "from nltk import trigrams\n",
      "from nltk import ngrams\n",
      "from nltk.stem import PorterStemmer"
     ],
     "language": "python",
     "metadata": {},
     "outputs": [],
     "prompt_number": 14
    },
    {
     "cell_type": "code",
     "collapsed": false,
     "input": [
      "pt = PorterStemmer()\n",
      "\n",
      "stop_words = urlopen('http://jmlr.org/papers/volume5/lewis04a/a11-smart-stop-list/english.stop').read().split('\\n')\n",
      "pos_words = urlopen('http://www.unc.edu/~ncaren/haphazard/positive.txt').read().split('\\n')\n",
      "neg_words = urlopen('http://www.unc.edu/~ncaren/haphazard/negative.txt').read().split('\\n')\n",
      "\n",
      "pos_stem_pt = map(pt.stem, pos_words)\n",
      "neg_stem_pt = map(pt.stem, neg_words)"
     ],
     "language": "python",
     "metadata": {},
     "outputs": [],
     "prompt_number": 15
    },
    {
     "cell_type": "code",
     "collapsed": false,
     "input": [
      "# preprocessing and calculate sentiments \n",
      "\n",
      "for article in women:\n",
      "    \n",
      "    i = article['TEXT-NO-NOUN']\n",
      "    \n",
      "    # processing\n",
      "    i = re.sub('\\W', ' ', i) # remove punctuation\n",
      "    i = i.lower() # remove capitalization\n",
      "    i = word_tokenize(i) # tokenize the words\n",
      "    i = [x for x in i if x not in stop_words] # remove stop words\n",
      "    i = map(pt.stem, i)\n",
      "    \n",
      "    article['text-stemmed'] = i\n",
      "    \n",
      "    # counting\n",
      "    i_pt = map(pt.stem, i)\n",
      "    article['number of porter stemmed positive words'] = len([x for x in i_pt if x in pos_stem_pt])\n",
      "    article['number of porter stemmed negative words'] = len([x for x in i_pt if x in neg_stem_pt])\n",
      "    article['number of non-stop words'] = len(i) # Number of non-stop words spoken"
     ],
     "language": "python",
     "metadata": {},
     "outputs": [],
     "prompt_number": 16
    },
    {
     "cell_type": "code",
     "collapsed": false,
     "input": [
      "women[1]"
     ],
     "language": "python",
     "metadata": {},
     "outputs": [
      {
       "metadata": {},
       "output_type": "pyout",
       "prompt_number": 17,
       "text": [
        "{'': '13',\n",
        " 'BYLINE': 'By JOAN COOK',\n",
        " 'COUNTRY': 'UNITED STATES\\xc2\\xa0(92%);\\xc2\\xa0DENMARK\\xc2\\xa0(79%);',\n",
        " 'COUNTRY_CODE': 'IND',\n",
        " 'COUNTRY_FINAL': 'India',\n",
        " 'COUNTRY_PERCENT_ST': 'United States of America',\n",
        " 'COUNTRY_TITLE': 'India',\n",
        " 'COUNTRY_TOP_PERCENT': 'UNITED STATES\\xc2\\xa0(92%)',\n",
        " 'DATE': 'January 17, 1990',\n",
        " 'LENGTH': '404 words',\n",
        " 'PUBLICATION': 'NYT',\n",
        " 'REGION': 'Asia',\n",
        " 'TEXT': \"India Edwards, former vice chairwoman of the Democratic National Committee, who worked to advance the role of women in politics, died Sunday at Fircrest Convalescent Hospital in Sebastopol, Calif. She was 94 years old and lived in Greenbrea, Calif. Mrs. Edwards was unanimously elected to the national committee in 1950. She was first associated with the committee as a volunteer in the 1944 Presidential campaign. From 1945 to 1947 she was executive secretary of the women's division, which she served as associate director before becoming the committee's vice chairwoman. Mrs. Edwards remained active in the Democratic Party for more than 30 years, through several generations of Democratic politicians, including Presidents Harry S. Truman, John F. Kennedy and Lyndon B. Johnson. For 22 years before she became active in politics she was on the staff of The Chicago Tribune, where she was society editor and woman's editor. She left the paper to marry her third husband, Herbert T. Edwards, a State Department official, and moved to Washington in 1942. Mr. Edwards died in the late 1970's. Campaigning With Truman Mrs. Edwards accompanied Mr. Truman, her political hero, on his 1948 campaign tour, where she repeatedly expressed her confidence in his victory at the polls. At one point the President turned to her and sighed. ''India,'' he said, ''sometimes I think there are only two people who believe I will win. You and me.'' ''That's enough,'' she replied. Largely because of Mrs. Edwards's influence, Mr. Truman appointed more women to top jobs than any preceding President. Among them were Eugenia Anderson as Ambassador to Denmark, Perle Mesta as Minister to Luxembourg, Ruth Bryan Rohde as an alternate delegate to the United Nations and Georgia Neese Clark as Treasurer of the United States. Explaining how she worked to increase the number of women in Federal jobs, Mrs. Edwards recalled: ''Sometimes I felt like a ghoul. I'd read the obits, and as soon as a man had died, I'd rush over to the White House and suggest a woman to replace him.'' Mrs. Edwards, who was named for her mother and her grandmother, was born in Chicago and grew up in Nashville. Her memoirs, ''Pulling No Punches,'' were published by G. P. Putnam's in 1977. Mrs. Edward's daughter, India Moffett Williams, died in 1979, and her son, John Holbrook Moffett, died in World War II. She is survived by five grandchildren.\",\n",
        " 'TEXT-NO-NOUN': \" , former vice chairwoman of the , who worked to advance the role of women in politics, died Sunday at  in , . She was 94 years old and lived in , . Mrs.  was unanimously elected to the national committee in 1950. She was first associated with the committee as a volunteer in the 1944 Presidential campaign. From 1945 to 1947 she was executive secretary of the women's division, which she served as associate director before becoming the committee's vice chairwoman. Mrs.  remained active in the  for more than 30 years, through several generations of Democratic politicians, including Presidents ,  and . For 22 years before she became active in politics she was on the staff of , where she was society editor and woman's editor. She left the paper to marry her third husband, Herbert T. , a  official, and moved to  in 1942. Mr.  died in the late 1970's. Campaigning With  Mrs.  accompanied Mr. , her political hero, on his 1948 campaign tour, where she repeatedly expressed her confidence in his victory at the polls. At one point the President turned to her and sighed. '','' he said, ''sometimes I think there are only two people who believe I will win. You and me.'' ''That's enough,'' she replied. Largely because of Mrs. 's influence, Mr.  appointed more women to top jobs than any preceding President. Among them were  as Ambassador to ,  as Minister to ,  as an alternate delegate to the  and  as Treasurer of the . Explaining how she worked to increase the number of women in Federal jobs, Mrs.  recalled: ''Sometimes I felt like a ghoul. I'd read the obits, and as soon as a man had died, I'd rush over to the  and suggest a woman to replace him.'' Mrs. , who was named for her mother and her grandmother, was born in  and grew up in . Her memoirs, ''Pulling No Punches,'' were published by 's in 1977. Mrs. 's daughter,  Moffett Williams, died in 1979, and her son, , died in World War II. She is survived by five grandchildren.\",\n",
        " 'TITLE': 'India Edwards Dies; Advocate of Women In Politics Was 94',\n",
        " 'TYPE': 'Obituary',\n",
        " 'YEAR': '1990',\n",
        " 'number of non-stop words': 145,\n",
        " 'number of porter stemmed negative words': 11,\n",
        " 'number of porter stemmed positive words': 19,\n",
        " 'text-stemmed': ['vice',\n",
        "  'chairwoman',\n",
        "  'work',\n",
        "  'advanc',\n",
        "  'role',\n",
        "  'women',\n",
        "  'polit',\n",
        "  'die',\n",
        "  'sunday',\n",
        "  '94',\n",
        "  'year',\n",
        "  'live',\n",
        "  'mr',\n",
        "  'unanim',\n",
        "  'elect',\n",
        "  'nation',\n",
        "  'committe',\n",
        "  '1950',\n",
        "  'committe',\n",
        "  'volunt',\n",
        "  '1944',\n",
        "  'presidenti',\n",
        "  'campaign',\n",
        "  '1945',\n",
        "  '1947',\n",
        "  'execut',\n",
        "  'secretari',\n",
        "  'women',\n",
        "  'divis',\n",
        "  'serv',\n",
        "  'associ',\n",
        "  'director',\n",
        "  'committe',\n",
        "  'vice',\n",
        "  'chairwoman',\n",
        "  'mr',\n",
        "  'remain',\n",
        "  'activ',\n",
        "  '30',\n",
        "  'year',\n",
        "  'gener',\n",
        "  'democrat',\n",
        "  'politician',\n",
        "  'includ',\n",
        "  'presid',\n",
        "  '22',\n",
        "  'year',\n",
        "  'activ',\n",
        "  'polit',\n",
        "  'staff',\n",
        "  'societi',\n",
        "  'editor',\n",
        "  'woman',\n",
        "  'editor',\n",
        "  'left',\n",
        "  'paper',\n",
        "  'marri',\n",
        "  'husband',\n",
        "  'herbert',\n",
        "  'offici',\n",
        "  'move',\n",
        "  '1942',\n",
        "  'mr',\n",
        "  'die',\n",
        "  'late',\n",
        "  '1970',\n",
        "  'campaign',\n",
        "  'mr',\n",
        "  'accompani',\n",
        "  'mr',\n",
        "  'polit',\n",
        "  'hero',\n",
        "  '1948',\n",
        "  'campaign',\n",
        "  'tour',\n",
        "  'repeatedli',\n",
        "  'express',\n",
        "  'confid',\n",
        "  'victori',\n",
        "  'poll',\n",
        "  'point',\n",
        "  'presid',\n",
        "  'turn',\n",
        "  'sigh',\n",
        "  'peopl',\n",
        "  'win',\n",
        "  'repli',\n",
        "  'larg',\n",
        "  'mr',\n",
        "  'influenc',\n",
        "  'mr',\n",
        "  'appoint',\n",
        "  'women',\n",
        "  'top',\n",
        "  'job',\n",
        "  'preced',\n",
        "  'presid',\n",
        "  'ambassador',\n",
        "  'minist',\n",
        "  'altern',\n",
        "  'deleg',\n",
        "  'treasur',\n",
        "  'explain',\n",
        "  'work',\n",
        "  'increas',\n",
        "  'number',\n",
        "  'women',\n",
        "  'feder',\n",
        "  'job',\n",
        "  'mr',\n",
        "  'recal',\n",
        "  'felt',\n",
        "  'ghoul',\n",
        "  'read',\n",
        "  'obit',\n",
        "  'man',\n",
        "  'die',\n",
        "  'rush',\n",
        "  'suggest',\n",
        "  'woman',\n",
        "  'replac',\n",
        "  'mr',\n",
        "  'name',\n",
        "  'mother',\n",
        "  'grandmoth',\n",
        "  'born',\n",
        "  'grew',\n",
        "  'memoir',\n",
        "  'pull',\n",
        "  'punch',\n",
        "  'publish',\n",
        "  '1977',\n",
        "  'mr',\n",
        "  'daughter',\n",
        "  'moffett',\n",
        "  'william',\n",
        "  'die',\n",
        "  '1979',\n",
        "  'son',\n",
        "  'die',\n",
        "  'world',\n",
        "  'war',\n",
        "  'ii',\n",
        "  'surviv',\n",
        "  'grandchildren']}"
       ]
      }
     ],
     "prompt_number": 17
    },
    {
     "cell_type": "markdown",
     "metadata": {},
     "source": [
      "## Write File"
     ]
    },
    {
     "cell_type": "code",
     "collapsed": false,
     "input": [
      "keys = women[1].keys()\n",
      "keys"
     ],
     "language": "python",
     "metadata": {},
     "outputs": [
      {
       "metadata": {},
       "output_type": "pyout",
       "prompt_number": 18,
       "text": [
        "['',\n",
        " 'COUNTRY_PERCENT_ST',\n",
        " 'BYLINE',\n",
        " 'TEXT-NO-NOUN',\n",
        " 'PUBLICATION',\n",
        " 'TITLE',\n",
        " 'COUNTRY',\n",
        " 'COUNTRY_FINAL',\n",
        " 'YEAR',\n",
        " 'text-stemmed',\n",
        " 'number of porter stemmed positive words',\n",
        " 'COUNTRY_TITLE',\n",
        " 'LENGTH',\n",
        " 'COUNTRY_TOP_PERCENT',\n",
        " 'number of non-stop words',\n",
        " 'number of porter stemmed negative words',\n",
        " 'COUNTRY_CODE',\n",
        " 'TEXT',\n",
        " 'DATE',\n",
        " 'TYPE',\n",
        " 'REGION']"
       ]
      }
     ],
     "prompt_number": 18
    },
    {
     "cell_type": "code",
     "collapsed": false,
     "input": [
      "with open('Data/women-processed.csv', 'wb') as output_file:\n",
      "    dict_writer = csv.DictWriter(output_file, keys)\n",
      "    dict_writer.writeheader()\n",
      "    dict_writer.writerows(women)"
     ],
     "language": "python",
     "metadata": {},
     "outputs": [],
     "prompt_number": 19
    },
    {
     "cell_type": "markdown",
     "metadata": {},
     "source": [
      "## Calculate DTM"
     ]
    },
    {
     "cell_type": "code",
     "collapsed": false,
     "input": [
      "# count number of unigrams\n",
      "unigrams = {}\n",
      "used = []\n",
      "\n",
      "for article in women:\n",
      "    for word in article['text-stemmed']:\n",
      "        if word in unigrams:\n",
      "                unigrams[word] += 1 \n",
      "        if word not in unigrams and word not in used:\n",
      "                unigrams[word] = 1 # add the word to unigrams for the first time\n",
      "                used.append(word) # add the word to used, which is just a list of the words used\n",
      "len(set(unigrams)) # the number of the unique unigrams"
     ],
     "language": "python",
     "metadata": {},
     "outputs": [
      {
       "metadata": {},
       "output_type": "pyout",
       "prompt_number": 20,
       "text": [
        "37777"
       ]
      }
     ],
     "prompt_number": 20
    },
    {
     "cell_type": "code",
     "collapsed": false,
     "input": [
      "from heapq import nlargest\n",
      "import operator"
     ],
     "language": "python",
     "metadata": {},
     "outputs": [],
     "prompt_number": 21
    },
    {
     "cell_type": "code",
     "collapsed": false,
     "input": [
      "top_uni_nu = nlargest(10000, unigrams.iteritems(), key=operator.itemgetter(1))\n",
      "top_uni = [x[0] for x in top_uni_nu]"
     ],
     "language": "python",
     "metadata": {},
     "outputs": [],
     "prompt_number": 22
    },
    {
     "cell_type": "code",
     "collapsed": false,
     "input": [
      "top_uni_nu[-10:-1] # what are the bottom 10 unigrams?"
     ],
     "language": "python",
     "metadata": {},
     "outputs": [
      {
       "metadata": {},
       "output_type": "pyout",
       "prompt_number": 23,
       "text": [
        "[('endometri', 11),\n",
        " ('muff', 11),\n",
        " ('brittl', 11),\n",
        " ('florida', 11),\n",
        " ('ventil', 11),\n",
        " ('stereo', 11),\n",
        " ('primal', 11),\n",
        " ('akb48', 11),\n",
        " ('better', 11)]"
       ]
      }
     ],
     "prompt_number": 23
    },
    {
     "cell_type": "code",
     "collapsed": false,
     "input": [
      "# create lists of counts of unigrams per document\n",
      "uni_dtm = []\n",
      "for article in women:\n",
      "    pub = article['PUBLICATION']\n",
      "    vec = [pub + '-' + article['REGION'] + str(article['YEAR']) + '-' + str(women.index(article)),]\n",
      "    # make a list of unigrams in that statement and count them\n",
      "    for i in top_uni:\n",
      "        count = article['text-stemmed'].count(i)\n",
      "        vec.append(count)\n",
      "    uni_dtm.append(vec)   "
     ],
     "language": "python",
     "metadata": {},
     "outputs": [],
     "prompt_number": 24
    },
    {
     "cell_type": "code",
     "collapsed": false,
     "input": [
      "uni_dtm[5000][:10]"
     ],
     "language": "python",
     "metadata": {},
     "outputs": [
      {
       "metadata": {},
       "output_type": "pyout",
       "prompt_number": 25,
       "text": [
        "['WP-Africa1996-5000', 23, 5, 0, 0, 0, 1, 6, 3, 5]"
       ]
      }
     ],
     "prompt_number": 25
    },
    {
     "cell_type": "code",
     "collapsed": false,
     "input": [
      "dtm = open('Data/dtm-python.csv', 'w')\n",
      "row = 'region'\n",
      "for i in top_uni:\n",
      "    row = row + ',' + i\n",
      "dtm.write(row + '\\n')"
     ],
     "language": "python",
     "metadata": {},
     "outputs": [],
     "prompt_number": 26
    },
    {
     "cell_type": "code",
     "collapsed": false,
     "input": [
      "# write rows\n",
      "\n",
      "for i in range(len(uni_dtm)):\n",
      "    x = str(uni_dtm[i])\n",
      "    x = x.replace('[','')\n",
      "    x = x.replace(']','')\n",
      "    dtm.write(x + '\\n')"
     ],
     "language": "python",
     "metadata": {},
     "outputs": [],
     "prompt_number": 27
    },
    {
     "cell_type": "code",
     "collapsed": false,
     "input": [
      "dtm.close()"
     ],
     "language": "python",
     "metadata": {},
     "outputs": [],
     "prompt_number": 28
    },
    {
     "cell_type": "code",
     "collapsed": false,
     "input": [],
     "language": "python",
     "metadata": {},
     "outputs": [],
     "prompt_number": 28
    },
    {
     "cell_type": "code",
     "collapsed": false,
     "input": [],
     "language": "python",
     "metadata": {},
     "outputs": []
    }
   ],
   "metadata": {}
  }
 ]
}