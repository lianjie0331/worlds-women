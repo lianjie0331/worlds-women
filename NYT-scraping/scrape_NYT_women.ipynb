{
 "cells": [
  {
   "cell_type": "code",
   "execution_count": 1,
   "metadata": {
    "collapsed": false
   },
   "outputs": [
    {
     "data": {
      "text/plain": [
       "131072"
      ]
     },
     "execution_count": 1,
     "metadata": {},
     "output_type": "execute_result"
    }
   ],
   "source": [
    "from nytimesarticle import articleAPI\n",
    "import ner\n",
    "import os\n",
    "import re\n",
    "import csv\n",
    "from urllib import urlopen\n",
    "import sys\n",
    "csv.field_size_limit(sys.maxsize)"
   ]
  },
  {
   "cell_type": "code",
   "execution_count": 2,
   "metadata": {
    "collapsed": true
   },
   "outputs": [],
   "source": [
    "api = articleAPI('e15cea455f73cc47d6d971667e09c31c:19:44644296')"
   ]
  },
  {
   "cell_type": "code",
   "execution_count": 3,
   "metadata": {
    "collapsed": true
   },
   "outputs": [],
   "source": [
    "def parse_articles(articles):\n",
    "    '''\n",
    "    This function takes in a response to the NYT api and parses\n",
    "    the articles into a list of dictionaries\n",
    "    '''\n",
    "    news = []\n",
    "    for i in articles['response']['docs']:\n",
    "        dic = {}\n",
    "        dic['id'] = i['_id']\n",
    "        if i['abstract'] is not None:\n",
    "            dic['abstract'] = i['abstract'].encode(\"utf8\")\n",
    "        dic['headline'] = i['headline']['main'].encode(\"utf8\")\n",
    "        dic['desk'] = i['news_desk']\n",
    "        dic['date'] = i['pub_date'][0:10] # cutting time of day.\n",
    "        dic['section'] = i['section_name']\n",
    "        if i['snippet'] is not None:\n",
    "            dic['snippet'] = i['snippet'].encode(\"utf8\")\n",
    "        dic['source'] = i['source']\n",
    "        dic['type'] = i['type_of_material']\n",
    "        dic['url'] = i['web_url']\n",
    "        dic['word_count'] = i['word_count']\n",
    "        # locations\n",
    "        locations = []\n",
    "        for x in range(0,len(i['keywords'])):\n",
    "            if 'glocations' in i['keywords'][x]['name']:\n",
    "                locations.append(i['keywords'][x]['value'])\n",
    "        dic['locations'] = locations\n",
    "        # subject\n",
    "        subjects = []\n",
    "        for x in range(0,len(i['keywords'])):\n",
    "            if 'subject' in i['keywords'][x]['name']:\n",
    "                subjects.append(i['keywords'][x]['value'])\n",
    "        dic['subjects'] = subjects   \n",
    "        news.append(dic)\n",
    "    return(news) "
   ]
  },
  {
   "cell_type": "code",
   "execution_count": 7,
   "metadata": {
    "collapsed": true
   },
   "outputs": [],
   "source": [
    "def get_articles(date):\n",
    "    '''\n",
    "    This function accepts a year in string format (e.g.'1980')\n",
    "    and will return a list of parsed articles about women\n",
    "    (in dictionaries) for that year.\n",
    "    '''\n",
    "    all_articles = []\n",
    "    for i in range(0,100): #NYT limits pager to first 100 pages. But rarely will you find over 100 pages of results anyway.\n",
    "        articles = api.search(\n",
    "               fq = {'source':['Reuters','AP', 'The New York Times'],'subject.contains':'women'},\n",
    "               begin_date = date + '0101',\n",
    "               end_date = date + '1231',\n",
    "               sort='oldest',\n",
    "               page = str(i))\n",
    "        articles = parse_articles(articles)\n",
    "        all_articles = all_articles + articles\n",
    "    return(all_articles)\n"
   ]
  },
  {
   "cell_type": "code",
   "execution_count": 16,
   "metadata": {
    "collapsed": false
   },
   "outputs": [
    {
     "name": "stdout",
     "output_type": "stream",
     "text": [
      "Processing1980...\n",
      "Processing1981...\n",
      "Processing1982...\n",
      "Processing1983...\n",
      "Processing1984...\n",
      "Processing1985...\n",
      "Processing1986...\n",
      "Processing1987...\n",
      "Processing1988...\n",
      "Processing1989...\n",
      "Processing1990...\n",
      "Processing1991...\n",
      "Processing1992...\n",
      "Processing1993...\n",
      "Processing1994...\n",
      "Processing1995...\n",
      "Processing1996...\n",
      "Processing1997...\n",
      "Processing1998...\n",
      "Processing1999...\n",
      "Processing2000...\n",
      "Processing2001...\n",
      "Processing2002...\n",
      "Processing2003...\n",
      "Processing2004...\n",
      "Processing2005...\n",
      "Processing2006...\n",
      "Processing2007...\n",
      "Processing2008...\n",
      "Processing2009...\n",
      "Processing2010...\n",
      "Processing2011...\n",
      "Processing2012...\n",
      "Processing2013...\n",
      "Processing2014...\n"
     ]
    }
   ],
   "source": [
    "women_all = []\n",
    "for i in range(1980,2015):\n",
    "    print 'Processing' + str(i) + '...'\n",
    "    women_year =  get_articles(str(i))\n",
    "    women_all = women_all + women_year"
   ]
  },
  {
   "cell_type": "code",
   "execution_count": 29,
   "metadata": {
    "collapsed": false
   },
   "outputs": [
    {
     "data": {
      "text/plain": [
       "{'abstract': \"Louis Auchincloss letter holds zealots of women's liberation who propose abolition of all sexually segregated clubs may be hurting both sexes; drawing\",\n",
       " 'date': u'1980-01-06',\n",
       " 'desk': None,\n",
       " 'headline': \"Letters; Our Self-Inflicted Evil Image in Iran A Korean Assassin Who Must Not Die Brodskys for Tonka To Dine and Talk in Sexual Segregation The Crusaders and the Pragmatists Why 'The Brethren'? Nuclear Power Installations Belong Underground\",\n",
       " 'id': u'4fc4a76745c1498b0dac107b',\n",
       " 'locations': [u'SOUTH KOREA', u'UNITED STATES', u'IRAN', u'UNITED STATES'],\n",
       " 'section': None,\n",
       " 'snippet': \"Louis Auchincloss letter holds zealots of women's liberation who propose abolition of all sexually segregated clubs may be hurting both sexes; drawing\",\n",
       " 'source': u'The New York Times',\n",
       " 'subjects': [u'ATOMIC ENERGY AND WEAPONS',\n",
       "  u'ELECTRIC LIGHT AND POWER',\n",
       "  u'PRESIDENTIAL ELECTION OF 1980',\n",
       "  u'PRESIDENTIAL ASPIRANTS AND PRE-CONVENTION CAMPAIGN',\n",
       "  u'ORGANIZATIONS, SOCIETIES AND CLUBS',\n",
       "  u'WOMEN'],\n",
       " 'type': u'Letter',\n",
       " 'url': u'http://query.nytimes.com/gst/abstract.html?res=9C0CE7D91330E631A25755C0A9679C94619FD6CF',\n",
       " 'word_count': 1996}"
      ]
     },
     "execution_count": 29,
     "metadata": {},
     "output_type": "execute_result"
    }
   ],
   "source": [
    "women_all[2]"
   ]
  },
  {
   "cell_type": "code",
   "execution_count": 26,
   "metadata": {
    "collapsed": false
   },
   "outputs": [
    {
     "name": "stdout",
     "output_type": "stream",
     "text": [
      "TEXAS\n",
      "MISSOURI\n",
      "ILLINOIS\n",
      "SOUTH KOREA\n",
      "IRAN\n",
      "NEW YORK CITY\n",
      "IRAN\n",
      "AFGHANISTAN\n",
      "AFGHANISTAN\n",
      "AFGHANISTAN\n",
      "AFGHANISTAN\n",
      "AFGHANISTAN\n",
      "AFGHANISTAN\n",
      "NEW YORK STATE\n",
      "NEW YORK CITY\n",
      "VIETNAM\n",
      "NEW YORK CITY\n",
      "NEW YORK CITY\n",
      "NEW YORK CITY\n",
      "JORDAN, HASHEMITE KINGDOM OF\n",
      "AFGHANISTAN\n",
      "AFGHANISTAN\n",
      "POLAND\n",
      "POLAND\n",
      "PHILADELPHIA (PA)\n",
      "ILLINOIS\n",
      "OKLAHOMA\n",
      "MIDDLE EAST\n",
      "MICHIGAN\n",
      "AFGHANISTAN\n",
      "NEW YORK CITY\n",
      "MIDDLE EAST\n",
      "MIDDLE EAST\n",
      "NEW YORK CITY\n",
      "UNION OF SOVIET SOCIALIST REPUBLICS\n",
      "AFGHANISTAN\n",
      "AFGHANISTAN\n",
      "NEW JERSEY\n",
      "NEWARK MUSEUM (NJ)\n",
      "GREAT BRITAIN\n",
      "AFGHANISTAN\n",
      "IRAN\n",
      "YUGOSLAVIA\n",
      "NEW YORK STATE\n",
      "ISRAEL, STATE OF\n",
      "ISRAEL, STATE OF\n",
      "PERU\n",
      "PERU\n",
      "YUGOSLAVIA\n",
      "THAILAND\n",
      "VENEZUELA\n",
      "VENEZUELA\n",
      "CALIFORNIA\n",
      "CALIFORNIA\n",
      "CALIFORNIA\n",
      "MISSOURI\n",
      "NEW JERSEY\n",
      "NEW JERSEY\n",
      "NEW YORK STATE\n",
      "NEW JERSEY\n",
      "FIRST BAPTIST CHURCH (WASHINGTON, DC)\n",
      "SPAIN\n",
      "NEW JERSEY\n",
      "CAMBODIA\n",
      "CUBA\n",
      "VIRGINIA\n",
      "TEXAS\n",
      "ALABAMA\n"
     ]
    }
   ],
   "source": [
    "for i in women_all[:100]:\n",
    "    x = i['locations']\n",
    "    for s in x: \n",
    "        if s != \"UNITED STATES\":\n",
    "            print s"
   ]
  },
  {
   "cell_type": "code",
   "execution_count": null,
   "metadata": {
    "collapsed": true
   },
   "outputs": [],
   "source": []
  }
 ],
 "metadata": {
  "kernelspec": {
   "display_name": "Python 2",
   "language": "python",
   "name": "python2"
  },
  "language_info": {
   "codemirror_mode": {
    "name": "ipython",
    "version": 2
   },
   "file_extension": ".py",
   "mimetype": "text/x-python",
   "name": "python",
   "nbconvert_exporter": "python",
   "pygments_lexer": "ipython2",
   "version": "2.7.9"
  }
 },
 "nbformat": 4,
 "nbformat_minor": 0
}
